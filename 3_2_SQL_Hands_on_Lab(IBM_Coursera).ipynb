{
  "nbformat": 4,
  "nbformat_minor": 0,
  "metadata": {
    "colab": {
      "name": "3.2-SQL-Hands-on-Lab(IBM-Coursera).ipynb",
      "provenance": [],
      "collapsed_sections": [],
      "mount_file_id": "1AEjIP_uh_wLiSQC1hQ8Da7dZYLnPZQJ7",
      "authorship_tag": "ABX9TyPkE+V2mQcqmYxdeN3Dv4Q2",
      "include_colab_link": true
    },
    "kernelspec": {
      "name": "python3",
      "display_name": "Python 3"
    },
    "language_info": {
      "name": "python"
    }
  },
  "cells": [
    {
      "cell_type": "markdown",
      "metadata": {
        "id": "view-in-github",
        "colab_type": "text"
      },
      "source": [
        "<a href=\"https://colab.research.google.com/github/iampramodyadav/SQL/blob/main/3_2_SQL_Hands_on_Lab(IBM_Coursera).ipynb\" target=\"_parent\"><img src=\"https://colab.research.google.com/assets/colab-badge.svg\" alt=\"Open In Colab\"/></a>"
      ]
    },
    {
      "cell_type": "code",
      "metadata": {
        "colab": {
          "base_uri": "https://localhost:8080/"
        },
        "id": "y4usRclvwknF",
        "outputId": "670eb720-0246-4c02-a5ff-d3b6c8b26b1d"
      },
      "source": [
        "!wget --header=\"Host: doc-0s-6c-sheets.googleusercontent.com\" --header=\"User-Agent: Mozilla/5.0 (Windows NT 10.0; Win64; x64) AppleWebKit/537.36 (KHTML, like Gecko) Chrome/91.0.4472.114 Safari/537.36\" --header=\"Accept: text/html,application/xhtml+xml,application/xml;q=0.9,image/webp,image/apng,*/*;q=0.8,application/signed-exchange;v=b3;q=0.9\" --header=\"Accept-Language: en-US,en;q=0.9\" --header=\"Referer: https://docs.google.com/\" \"https://doc-0s-6c-sheets.googleusercontent.com/export/u7offqfa6c5ebcqq1gheaur6fs/uvcbe137k0677u51ga2oro6q34/1625003265000/111118528152204709033/111118528152204709033/1r_wWruAhacMNbnFhI7I_x7yC7bW6GM81lRJVDr6Pdso?format=csv&id=1r_wWruAhacMNbnFhI7I_x7yC7bW6GM81lRJVDr6Pdso&gid=0&dat=AFCstmpDD_wNbmGV3P-q9eCzYw_3ytafaYicpRlLG-rFuJZybu_JCqDQfesRtiuOReIPB-2_6jIW6wdhNMVvsG4GUxY0d7z6BhlVH3XJN_4SwaGDXyR9YqsRCWcD3yAoRuUfshbNMVFjNwb0WlvlvgF2Np4c_6U46NZJfaUAp87N-gX-W6gmByqYb_2beXbLUAyev2cVpswW0LagU6GUFHqbp9TZ7P85R7SHtu2daUhb4EgTSu8o3SllaEoAIETPe5n1-GvSzyy_pOo8toLVtR-vompy7RwROCEdA0xh96PwG6OsKGtDWf9oLwdMly5P43TGxpvMPZL331Ifo8xglsTZY46JFkvn3pHIebrr7ZvWm46DTPq6HhiYYD59BQKzHaibFl1RktJcspqc2z0O55a2bH8GiwtQpLmhsOMM33-9k5vh9iljv99KKZywxHTsx5qQI3PMRqvxL2yYOl48oPq3kOP9KucT0Y3sdSFdvl9kOGiecEoUulNnKkImc6yXY_yYIQUM8-1jbQCBGDEScBDlagz-h0cGdy1m0NqDN-Dj3ck6XA-DbhbJb55VsUVmJXw6rfiawMcJPrCElCjes6utdnfgEcgFzcY62zjRurLrMLHh9wcTp0ACuLuUu32BwYvzJjJWggA9rgMgd-gt71QndIFSxEhOivwKuc9CErri92BC7EZUGdggrU9URT4_Adixejsa9TEEPh7FueIW98PUH0BlSJ0\" -c -O 'Untitled spreadsheet - Sheet1.csv'"
      ],
      "execution_count": 4,
      "outputs": [
        {
          "output_type": "stream",
          "text": [
            "--2021-06-29 21:54:06--  https://doc-0s-6c-sheets.googleusercontent.com/export/u7offqfa6c5ebcqq1gheaur6fs/uvcbe137k0677u51ga2oro6q34/1625003265000/111118528152204709033/111118528152204709033/1r_wWruAhacMNbnFhI7I_x7yC7bW6GM81lRJVDr6Pdso?format=csv&id=1r_wWruAhacMNbnFhI7I_x7yC7bW6GM81lRJVDr6Pdso&gid=0&dat=AFCstmpDD_wNbmGV3P-q9eCzYw_3ytafaYicpRlLG-rFuJZybu_JCqDQfesRtiuOReIPB-2_6jIW6wdhNMVvsG4GUxY0d7z6BhlVH3XJN_4SwaGDXyR9YqsRCWcD3yAoRuUfshbNMVFjNwb0WlvlvgF2Np4c_6U46NZJfaUAp87N-gX-W6gmByqYb_2beXbLUAyev2cVpswW0LagU6GUFHqbp9TZ7P85R7SHtu2daUhb4EgTSu8o3SllaEoAIETPe5n1-GvSzyy_pOo8toLVtR-vompy7RwROCEdA0xh96PwG6OsKGtDWf9oLwdMly5P43TGxpvMPZL331Ifo8xglsTZY46JFkvn3pHIebrr7ZvWm46DTPq6HhiYYD59BQKzHaibFl1RktJcspqc2z0O55a2bH8GiwtQpLmhsOMM33-9k5vh9iljv99KKZywxHTsx5qQI3PMRqvxL2yYOl48oPq3kOP9KucT0Y3sdSFdvl9kOGiecEoUulNnKkImc6yXY_yYIQUM8-1jbQCBGDEScBDlagz-h0cGdy1m0NqDN-Dj3ck6XA-DbhbJb55VsUVmJXw6rfiawMcJPrCElCjes6utdnfgEcgFzcY62zjRurLrMLHh9wcTp0ACuLuUu32BwYvzJjJWggA9rgMgd-gt71QndIFSxEhOivwKuc9CErri92BC7EZUGdggrU9URT4_Adixejsa9TEEPh7FueIW98PUH0BlSJ0\n",
            "Resolving doc-0s-6c-sheets.googleusercontent.com (doc-0s-6c-sheets.googleusercontent.com)... 142.250.157.132, 2404:6800:4008:c13::84\n",
            "Connecting to doc-0s-6c-sheets.googleusercontent.com (doc-0s-6c-sheets.googleusercontent.com)|142.250.157.132|:443... connected.\n",
            "HTTP request sent, awaiting response... 400 Bad Request\n",
            "2021-06-29 21:54:07 ERROR 400: Bad Request.\n",
            "\n"
          ],
          "name": "stdout"
        }
      ]
    },
    {
      "cell_type": "code",
      "metadata": {
        "id": "uUdS9mmjvwzM"
      },
      "source": [
        "import pandas as pd\n",
        "\n",
        "\n",
        "from sqlalchemy import create_engine"
      ],
      "execution_count": 10,
      "outputs": []
    },
    {
      "cell_type": "code",
      "metadata": {
        "id": "2Dp0EuZ4vyw9"
      },
      "source": [
        "Instructor=pd.read_csv(\"Instructor.csv\")"
      ],
      "execution_count": null,
      "outputs": []
    },
    {
      "cell_type": "code",
      "metadata": {
        "colab": {
          "base_uri": "https://localhost:8080/"
        },
        "id": "flzir2XKv-JW",
        "outputId": "53460ffa-502b-465b-99ea-3ef4f55bc4d8"
      },
      "source": [
        "from google.colab import drive\n",
        "drive.mount('/content/drive')"
      ],
      "execution_count": 3,
      "outputs": [
        {
          "output_type": "stream",
          "text": [
            "Mounted at /content/drive\n"
          ],
          "name": "stdout"
        }
      ]
    },
    {
      "cell_type": "code",
      "metadata": {
        "id": "Z-j6u00uw779"
      },
      "source": [
        "PETRESCUE=pd.read_csv('/content/drive/MyDrive/dataset/dataset.csv')"
      ],
      "execution_count": 8,
      "outputs": []
    },
    {
      "cell_type": "code",
      "metadata": {
        "colab": {
          "base_uri": "https://localhost:8080/",
          "height": 204
        },
        "id": "CvfYQsMIzAW8",
        "outputId": "d861a4f6-9029-4dc4-d9c5-b9d2e4149911"
      },
      "source": [
        "PETRESCUE.head()"
      ],
      "execution_count": 13,
      "outputs": [
        {
          "output_type": "execute_result",
          "data": {
            "text/html": [
              "<div>\n",
              "<style scoped>\n",
              "    .dataframe tbody tr th:only-of-type {\n",
              "        vertical-align: middle;\n",
              "    }\n",
              "\n",
              "    .dataframe tbody tr th {\n",
              "        vertical-align: top;\n",
              "    }\n",
              "\n",
              "    .dataframe thead th {\n",
              "        text-align: right;\n",
              "    }\n",
              "</style>\n",
              "<table border=\"1\" class=\"dataframe\">\n",
              "  <thead>\n",
              "    <tr style=\"text-align: right;\">\n",
              "      <th></th>\n",
              "      <th>ID</th>\n",
              "      <th>ANIMAL</th>\n",
              "      <th>QUANTITY</th>\n",
              "      <th>COST</th>\n",
              "      <th>RESCUEDATE</th>\n",
              "    </tr>\n",
              "  </thead>\n",
              "  <tbody>\n",
              "    <tr>\n",
              "      <th>0</th>\n",
              "      <td>1</td>\n",
              "      <td>Cat</td>\n",
              "      <td>9</td>\n",
              "      <td>450.09</td>\n",
              "      <td>2018-05-29</td>\n",
              "    </tr>\n",
              "    <tr>\n",
              "      <th>1</th>\n",
              "      <td>2</td>\n",
              "      <td>Dog</td>\n",
              "      <td>3</td>\n",
              "      <td>666.66</td>\n",
              "      <td>2018-06-01</td>\n",
              "    </tr>\n",
              "    <tr>\n",
              "      <th>2</th>\n",
              "      <td>3</td>\n",
              "      <td>Dog</td>\n",
              "      <td>1</td>\n",
              "      <td>100.00</td>\n",
              "      <td>2018-06-04</td>\n",
              "    </tr>\n",
              "    <tr>\n",
              "      <th>3</th>\n",
              "      <td>4</td>\n",
              "      <td>Parrot</td>\n",
              "      <td>2</td>\n",
              "      <td>50.00</td>\n",
              "      <td>2018-06-04</td>\n",
              "    </tr>\n",
              "    <tr>\n",
              "      <th>4</th>\n",
              "      <td>5</td>\n",
              "      <td>Dog</td>\n",
              "      <td>1</td>\n",
              "      <td>75.75</td>\n",
              "      <td>2018-06-10</td>\n",
              "    </tr>\n",
              "  </tbody>\n",
              "</table>\n",
              "</div>"
            ],
            "text/plain": [
              "   ID  ANIMAL  QUANTITY    COST  RESCUEDATE\n",
              "0   1     Cat         9  450.09  2018-05-29\n",
              "1   2     Dog         3  666.66  2018-06-01\n",
              "2   3     Dog         1  100.00  2018-06-04\n",
              "3   4  Parrot         2   50.00  2018-06-04\n",
              "4   5     Dog         1   75.75  2018-06-10"
            ]
          },
          "metadata": {
            "tags": []
          },
          "execution_count": 13
        }
      ]
    },
    {
      "cell_type": "code",
      "metadata": {
        "id": "K-CbrRWAy7-t"
      },
      "source": [
        "PETRESCUE=PETRESCUE.set_index('ID')"
      ],
      "execution_count": 15,
      "outputs": []
    },
    {
      "cell_type": "code",
      "metadata": {
        "colab": {
          "base_uri": "https://localhost:8080/",
          "height": 235
        },
        "id": "yDYMCheYy8VQ",
        "outputId": "a2a813c3-f802-49b7-dd59-d7bb3f393706"
      },
      "source": [
        "PETRESCUE.head()"
      ],
      "execution_count": 16,
      "outputs": [
        {
          "output_type": "execute_result",
          "data": {
            "text/html": [
              "<div>\n",
              "<style scoped>\n",
              "    .dataframe tbody tr th:only-of-type {\n",
              "        vertical-align: middle;\n",
              "    }\n",
              "\n",
              "    .dataframe tbody tr th {\n",
              "        vertical-align: top;\n",
              "    }\n",
              "\n",
              "    .dataframe thead th {\n",
              "        text-align: right;\n",
              "    }\n",
              "</style>\n",
              "<table border=\"1\" class=\"dataframe\">\n",
              "  <thead>\n",
              "    <tr style=\"text-align: right;\">\n",
              "      <th></th>\n",
              "      <th>ANIMAL</th>\n",
              "      <th>QUANTITY</th>\n",
              "      <th>COST</th>\n",
              "      <th>RESCUEDATE</th>\n",
              "    </tr>\n",
              "    <tr>\n",
              "      <th>ID</th>\n",
              "      <th></th>\n",
              "      <th></th>\n",
              "      <th></th>\n",
              "      <th></th>\n",
              "    </tr>\n",
              "  </thead>\n",
              "  <tbody>\n",
              "    <tr>\n",
              "      <th>1</th>\n",
              "      <td>Cat</td>\n",
              "      <td>9</td>\n",
              "      <td>450.09</td>\n",
              "      <td>2018-05-29</td>\n",
              "    </tr>\n",
              "    <tr>\n",
              "      <th>2</th>\n",
              "      <td>Dog</td>\n",
              "      <td>3</td>\n",
              "      <td>666.66</td>\n",
              "      <td>2018-06-01</td>\n",
              "    </tr>\n",
              "    <tr>\n",
              "      <th>3</th>\n",
              "      <td>Dog</td>\n",
              "      <td>1</td>\n",
              "      <td>100.00</td>\n",
              "      <td>2018-06-04</td>\n",
              "    </tr>\n",
              "    <tr>\n",
              "      <th>4</th>\n",
              "      <td>Parrot</td>\n",
              "      <td>2</td>\n",
              "      <td>50.00</td>\n",
              "      <td>2018-06-04</td>\n",
              "    </tr>\n",
              "    <tr>\n",
              "      <th>5</th>\n",
              "      <td>Dog</td>\n",
              "      <td>1</td>\n",
              "      <td>75.75</td>\n",
              "      <td>2018-06-10</td>\n",
              "    </tr>\n",
              "  </tbody>\n",
              "</table>\n",
              "</div>"
            ],
            "text/plain": [
              "    ANIMAL  QUANTITY    COST  RESCUEDATE\n",
              "ID                                      \n",
              "1      Cat         9  450.09  2018-05-29\n",
              "2      Dog         3  666.66  2018-06-01\n",
              "3      Dog         1  100.00  2018-06-04\n",
              "4   Parrot         2   50.00  2018-06-04\n",
              "5      Dog         1   75.75  2018-06-10"
            ]
          },
          "metadata": {
            "tags": []
          },
          "execution_count": 16
        }
      ]
    },
    {
      "cell_type": "code",
      "metadata": {
        "id": "PW6nwIdpx9Y4"
      },
      "source": [
        "temp_db = create_engine('sqlite:///:memory:')\n",
        "PETRESCUE.to_sql(name='PETRESCUE',con=temp_db)"
      ],
      "execution_count": 18,
      "outputs": []
    },
    {
      "cell_type": "code",
      "metadata": {
        "colab": {
          "base_uri": "https://localhost:8080/",
          "height": 297
        },
        "id": "SavUBs1lygm4",
        "outputId": "c6001007-2bf3-49a6-8365-8978335c6614"
      },
      "source": [
        "pd.read_sql(sql='PETRESCUE',con=temp_db)"
      ],
      "execution_count": 19,
      "outputs": [
        {
          "output_type": "execute_result",
          "data": {
            "text/html": [
              "<div>\n",
              "<style scoped>\n",
              "    .dataframe tbody tr th:only-of-type {\n",
              "        vertical-align: middle;\n",
              "    }\n",
              "\n",
              "    .dataframe tbody tr th {\n",
              "        vertical-align: top;\n",
              "    }\n",
              "\n",
              "    .dataframe thead th {\n",
              "        text-align: right;\n",
              "    }\n",
              "</style>\n",
              "<table border=\"1\" class=\"dataframe\">\n",
              "  <thead>\n",
              "    <tr style=\"text-align: right;\">\n",
              "      <th></th>\n",
              "      <th>ID</th>\n",
              "      <th>ANIMAL</th>\n",
              "      <th>QUANTITY</th>\n",
              "      <th>COST</th>\n",
              "      <th>RESCUEDATE</th>\n",
              "    </tr>\n",
              "  </thead>\n",
              "  <tbody>\n",
              "    <tr>\n",
              "      <th>0</th>\n",
              "      <td>1</td>\n",
              "      <td>Cat</td>\n",
              "      <td>9</td>\n",
              "      <td>450.09</td>\n",
              "      <td>2018-05-29</td>\n",
              "    </tr>\n",
              "    <tr>\n",
              "      <th>1</th>\n",
              "      <td>2</td>\n",
              "      <td>Dog</td>\n",
              "      <td>3</td>\n",
              "      <td>666.66</td>\n",
              "      <td>2018-06-01</td>\n",
              "    </tr>\n",
              "    <tr>\n",
              "      <th>2</th>\n",
              "      <td>3</td>\n",
              "      <td>Dog</td>\n",
              "      <td>1</td>\n",
              "      <td>100.00</td>\n",
              "      <td>2018-06-04</td>\n",
              "    </tr>\n",
              "    <tr>\n",
              "      <th>3</th>\n",
              "      <td>4</td>\n",
              "      <td>Parrot</td>\n",
              "      <td>2</td>\n",
              "      <td>50.00</td>\n",
              "      <td>2018-06-04</td>\n",
              "    </tr>\n",
              "    <tr>\n",
              "      <th>4</th>\n",
              "      <td>5</td>\n",
              "      <td>Dog</td>\n",
              "      <td>1</td>\n",
              "      <td>75.75</td>\n",
              "      <td>2018-06-10</td>\n",
              "    </tr>\n",
              "    <tr>\n",
              "      <th>5</th>\n",
              "      <td>6</td>\n",
              "      <td>Hamster</td>\n",
              "      <td>6</td>\n",
              "      <td>60.60</td>\n",
              "      <td>2018-06-11</td>\n",
              "    </tr>\n",
              "    <tr>\n",
              "      <th>6</th>\n",
              "      <td>7</td>\n",
              "      <td>Cat</td>\n",
              "      <td>1</td>\n",
              "      <td>44.44</td>\n",
              "      <td>2018-06-11</td>\n",
              "    </tr>\n",
              "    <tr>\n",
              "      <th>7</th>\n",
              "      <td>8</td>\n",
              "      <td>Goldfish</td>\n",
              "      <td>24</td>\n",
              "      <td>48.48</td>\n",
              "      <td>2018-06-14</td>\n",
              "    </tr>\n",
              "  </tbody>\n",
              "</table>\n",
              "</div>"
            ],
            "text/plain": [
              "   ID    ANIMAL  QUANTITY    COST  RESCUEDATE\n",
              "0   1       Cat         9  450.09  2018-05-29\n",
              "1   2       Dog         3  666.66  2018-06-01\n",
              "2   3       Dog         1  100.00  2018-06-04\n",
              "3   4    Parrot         2   50.00  2018-06-04\n",
              "4   5       Dog         1   75.75  2018-06-10\n",
              "5   6   Hamster         6   60.60  2018-06-11\n",
              "6   7       Cat         1   44.44  2018-06-11\n",
              "7   8  Goldfish        24   48.48  2018-06-14"
            ]
          },
          "metadata": {
            "tags": []
          },
          "execution_count": 19
        }
      ]
    },
    {
      "cell_type": "code",
      "metadata": {
        "colab": {
          "base_uri": "https://localhost:8080/",
          "height": 297
        },
        "id": "wj4fXGRxz4qm",
        "outputId": "db060f92-77ff-478d-c266-c5364afce11e"
      },
      "source": [
        "pd.read_sql_query(sql=\"\"\"SELECT *  FROM PETRESCUE\"\"\",con=temp_db)"
      ],
      "execution_count": 20,
      "outputs": [
        {
          "output_type": "execute_result",
          "data": {
            "text/html": [
              "<div>\n",
              "<style scoped>\n",
              "    .dataframe tbody tr th:only-of-type {\n",
              "        vertical-align: middle;\n",
              "    }\n",
              "\n",
              "    .dataframe tbody tr th {\n",
              "        vertical-align: top;\n",
              "    }\n",
              "\n",
              "    .dataframe thead th {\n",
              "        text-align: right;\n",
              "    }\n",
              "</style>\n",
              "<table border=\"1\" class=\"dataframe\">\n",
              "  <thead>\n",
              "    <tr style=\"text-align: right;\">\n",
              "      <th></th>\n",
              "      <th>ID</th>\n",
              "      <th>ANIMAL</th>\n",
              "      <th>QUANTITY</th>\n",
              "      <th>COST</th>\n",
              "      <th>RESCUEDATE</th>\n",
              "    </tr>\n",
              "  </thead>\n",
              "  <tbody>\n",
              "    <tr>\n",
              "      <th>0</th>\n",
              "      <td>1</td>\n",
              "      <td>Cat</td>\n",
              "      <td>9</td>\n",
              "      <td>450.09</td>\n",
              "      <td>2018-05-29</td>\n",
              "    </tr>\n",
              "    <tr>\n",
              "      <th>1</th>\n",
              "      <td>2</td>\n",
              "      <td>Dog</td>\n",
              "      <td>3</td>\n",
              "      <td>666.66</td>\n",
              "      <td>2018-06-01</td>\n",
              "    </tr>\n",
              "    <tr>\n",
              "      <th>2</th>\n",
              "      <td>3</td>\n",
              "      <td>Dog</td>\n",
              "      <td>1</td>\n",
              "      <td>100.00</td>\n",
              "      <td>2018-06-04</td>\n",
              "    </tr>\n",
              "    <tr>\n",
              "      <th>3</th>\n",
              "      <td>4</td>\n",
              "      <td>Parrot</td>\n",
              "      <td>2</td>\n",
              "      <td>50.00</td>\n",
              "      <td>2018-06-04</td>\n",
              "    </tr>\n",
              "    <tr>\n",
              "      <th>4</th>\n",
              "      <td>5</td>\n",
              "      <td>Dog</td>\n",
              "      <td>1</td>\n",
              "      <td>75.75</td>\n",
              "      <td>2018-06-10</td>\n",
              "    </tr>\n",
              "    <tr>\n",
              "      <th>5</th>\n",
              "      <td>6</td>\n",
              "      <td>Hamster</td>\n",
              "      <td>6</td>\n",
              "      <td>60.60</td>\n",
              "      <td>2018-06-11</td>\n",
              "    </tr>\n",
              "    <tr>\n",
              "      <th>6</th>\n",
              "      <td>7</td>\n",
              "      <td>Cat</td>\n",
              "      <td>1</td>\n",
              "      <td>44.44</td>\n",
              "      <td>2018-06-11</td>\n",
              "    </tr>\n",
              "    <tr>\n",
              "      <th>7</th>\n",
              "      <td>8</td>\n",
              "      <td>Goldfish</td>\n",
              "      <td>24</td>\n",
              "      <td>48.48</td>\n",
              "      <td>2018-06-14</td>\n",
              "    </tr>\n",
              "  </tbody>\n",
              "</table>\n",
              "</div>"
            ],
            "text/plain": [
              "   ID    ANIMAL  QUANTITY    COST  RESCUEDATE\n",
              "0   1       Cat         9  450.09  2018-05-29\n",
              "1   2       Dog         3  666.66  2018-06-01\n",
              "2   3       Dog         1  100.00  2018-06-04\n",
              "3   4    Parrot         2   50.00  2018-06-04\n",
              "4   5       Dog         1   75.75  2018-06-10\n",
              "5   6   Hamster         6   60.60  2018-06-11\n",
              "6   7       Cat         1   44.44  2018-06-11\n",
              "7   8  Goldfish        24   48.48  2018-06-14"
            ]
          },
          "metadata": {
            "tags": []
          },
          "execution_count": 20
        }
      ]
    }
  ]
}