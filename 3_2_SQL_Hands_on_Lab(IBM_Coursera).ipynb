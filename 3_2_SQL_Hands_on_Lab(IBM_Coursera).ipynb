{
  "nbformat": 4,
  "nbformat_minor": 0,
  "metadata": {
    "colab": {
      "name": "3.2-SQL-Hands-on-Lab(IBM-Coursera).ipynb",
      "provenance": [],
      "collapsed_sections": [],
      "toc_visible": true,
      "mount_file_id": "1AEjIP_uh_wLiSQC1hQ8Da7dZYLnPZQJ7",
      "authorship_tag": "ABX9TyP1F08HFL85x8UvwA15jcN3",
      "include_colab_link": true
    },
    "kernelspec": {
      "name": "python3",
      "display_name": "Python 3"
    },
    "language_info": {
      "name": "python"
    }
  },
  "cells": [
    {
      "cell_type": "markdown",
      "metadata": {
        "id": "view-in-github",
        "colab_type": "text"
      },
      "source": [
        "<a href=\"https://colab.research.google.com/github/iampramodyadav/SQL/blob/main/3_2_SQL_Hands_on_Lab(IBM_Coursera).ipynb\" target=\"_parent\"><img src=\"https://colab.research.google.com/assets/colab-badge.svg\" alt=\"Open In Colab\"/></a>"
      ]
    },
    {
      "cell_type": "markdown",
      "metadata": {
        "id": "rhZ2EnvAKtYq"
      },
      "source": [
        "# Databases and SQL for Data Science with Python: IBM (Coursera)\n",
        "\n",
        "\n",
        "---\n",
        "\n",
        "\n",
        "In this Notebook I implemented HANDS ON LAB of problems in python via SqlAlchemy"
      ]
    },
    {
      "cell_type": "markdown",
      "metadata": {
        "id": "EAorck3yKtW-"
      },
      "source": [
        "# Loading Dataset ans creating sql connection"
      ]
    },
    {
      "cell_type": "code",
      "metadata": {
        "colab": {
          "base_uri": "https://localhost:8080/"
        },
        "id": "O2_dS7kaKFUu",
        "outputId": "442b6bee-0fb9-44d5-fee3-63a60122bc05"
      },
      "source": [
        "!wget --header=\"Host: doc-0o-bo-docs.googleusercontent.com\" --header=\"User-Agent: Mozilla/5.0 (Windows NT 10.0; Win64; x64) AppleWebKit/537.36 (KHTML, like Gecko) Chrome/91.0.4472.114 Safari/537.36 Edg/91.0.864.59\" --header=\"Accept: text/html,application/xhtml+xml,application/xml;q=0.9,image/webp,image/apng,*/*;q=0.8,application/signed-exchange;v=b3;q=0.9\" --header=\"Accept-Language: en-US,en;q=0.9\" --header=\"Cookie: AUTH_ujbqda0skqord9mt5apv7iem3lr8edhh_nonce=bn5j5uk2oigkk\" --header=\"Connection: keep-alive\" \"https://doc-0o-bo-docs.googleusercontent.com/docs/securesc/qi8emsu4tmv5jrtccc5loc5rti60j2jr/06t6p4okhrhog6a19jkt3dk95tl6eoom/1625043750000/11188729884457963495/11188729884457963495/1cauxWAlu8kUyhoSnTL_kxUgJBKBiCTCP?e=download&authuser=0&nonce=bn5j5uk2oigkk&user=11188729884457963495&hash=m6323655p2uldftqpthdaokrhkk9rpmc\" -c -O 'dataset.csv'"
      ],
      "execution_count": 4,
      "outputs": [
        {
          "output_type": "stream",
          "text": [
            "--2021-06-30 09:03:11--  https://doc-0o-bo-docs.googleusercontent.com/docs/securesc/qi8emsu4tmv5jrtccc5loc5rti60j2jr/06t6p4okhrhog6a19jkt3dk95tl6eoom/1625043750000/11188729884457963495/11188729884457963495/1cauxWAlu8kUyhoSnTL_kxUgJBKBiCTCP?e=download&authuser=0&nonce=bn5j5uk2oigkk&user=11188729884457963495&hash=m6323655p2uldftqpthdaokrhkk9rpmc\n",
            "Resolving doc-0o-bo-docs.googleusercontent.com (doc-0o-bo-docs.googleusercontent.com)... 74.125.204.132, 2404:6800:4008:c04::84\n",
            "Connecting to doc-0o-bo-docs.googleusercontent.com (doc-0o-bo-docs.googleusercontent.com)|74.125.204.132|:443... connected.\n",
            "HTTP request sent, awaiting response... 200 OK\n",
            "Length: 251 [text/csv]\n",
            "Saving to: ‘dataset.csv’\n",
            "\n",
            "dataset.csv         100%[===================>]     251  --.-KB/s    in 0s      \n",
            "\n",
            "2021-06-30 09:03:11 (7.82 MB/s) - ‘dataset.csv’ saved [251/251]\n",
            "\n"
          ],
          "name": "stdout"
        }
      ]
    },
    {
      "cell_type": "code",
      "metadata": {
        "id": "uUdS9mmjvwzM"
      },
      "source": [
        "import pandas as pd\n",
        "from sqlalchemy import create_engine"
      ],
      "execution_count": 5,
      "outputs": []
    },
    {
      "cell_type": "code",
      "metadata": {
        "colab": {
          "base_uri": "https://localhost:8080/"
        },
        "id": "flzir2XKv-JW",
        "outputId": "53460ffa-502b-465b-99ea-3ef4f55bc4d8"
      },
      "source": [
        "#from google.colab import drive\n",
        "#drive.mount('/content/drive')"
      ],
      "execution_count": null,
      "outputs": [
        {
          "output_type": "stream",
          "text": [
            "Mounted at /content/drive\n"
          ],
          "name": "stdout"
        }
      ]
    },
    {
      "cell_type": "code",
      "metadata": {
        "id": "Z-j6u00uw779"
      },
      "source": [
        "#PETRESCUE=pd.read_csv('/content/drive/MyDrive/dataset/dataset.csv')"
      ],
      "execution_count": null,
      "outputs": []
    },
    {
      "cell_type": "code",
      "metadata": {
        "id": "W4-gedfsKNiH"
      },
      "source": [
        "PETRESCUE=pd.read_csv('dataset.csv')"
      ],
      "execution_count": 6,
      "outputs": []
    },
    {
      "cell_type": "code",
      "metadata": {
        "colab": {
          "base_uri": "https://localhost:8080/",
          "height": 204
        },
        "id": "CvfYQsMIzAW8",
        "outputId": "fbd671f5-e85d-4611-a24a-39655c07dc71"
      },
      "source": [
        "PETRESCUE.head()"
      ],
      "execution_count": 7,
      "outputs": [
        {
          "output_type": "execute_result",
          "data": {
            "text/html": [
              "<div>\n",
              "<style scoped>\n",
              "    .dataframe tbody tr th:only-of-type {\n",
              "        vertical-align: middle;\n",
              "    }\n",
              "\n",
              "    .dataframe tbody tr th {\n",
              "        vertical-align: top;\n",
              "    }\n",
              "\n",
              "    .dataframe thead th {\n",
              "        text-align: right;\n",
              "    }\n",
              "</style>\n",
              "<table border=\"1\" class=\"dataframe\">\n",
              "  <thead>\n",
              "    <tr style=\"text-align: right;\">\n",
              "      <th></th>\n",
              "      <th>ID</th>\n",
              "      <th>ANIMAL</th>\n",
              "      <th>QUANTITY</th>\n",
              "      <th>COST</th>\n",
              "      <th>RESCUEDATE</th>\n",
              "    </tr>\n",
              "  </thead>\n",
              "  <tbody>\n",
              "    <tr>\n",
              "      <th>0</th>\n",
              "      <td>1</td>\n",
              "      <td>Cat</td>\n",
              "      <td>9</td>\n",
              "      <td>450.09</td>\n",
              "      <td>2018-05-29</td>\n",
              "    </tr>\n",
              "    <tr>\n",
              "      <th>1</th>\n",
              "      <td>2</td>\n",
              "      <td>Dog</td>\n",
              "      <td>3</td>\n",
              "      <td>666.66</td>\n",
              "      <td>2018-06-01</td>\n",
              "    </tr>\n",
              "    <tr>\n",
              "      <th>2</th>\n",
              "      <td>3</td>\n",
              "      <td>Dog</td>\n",
              "      <td>1</td>\n",
              "      <td>100.00</td>\n",
              "      <td>2018-06-04</td>\n",
              "    </tr>\n",
              "    <tr>\n",
              "      <th>3</th>\n",
              "      <td>4</td>\n",
              "      <td>Parrot</td>\n",
              "      <td>2</td>\n",
              "      <td>50.00</td>\n",
              "      <td>2018-06-04</td>\n",
              "    </tr>\n",
              "    <tr>\n",
              "      <th>4</th>\n",
              "      <td>5</td>\n",
              "      <td>Dog</td>\n",
              "      <td>1</td>\n",
              "      <td>75.75</td>\n",
              "      <td>2018-06-10</td>\n",
              "    </tr>\n",
              "  </tbody>\n",
              "</table>\n",
              "</div>"
            ],
            "text/plain": [
              "   ID  ANIMAL  QUANTITY    COST  RESCUEDATE\n",
              "0   1     Cat         9  450.09  2018-05-29\n",
              "1   2     Dog         3  666.66  2018-06-01\n",
              "2   3     Dog         1  100.00  2018-06-04\n",
              "3   4  Parrot         2   50.00  2018-06-04\n",
              "4   5     Dog         1   75.75  2018-06-10"
            ]
          },
          "metadata": {
            "tags": []
          },
          "execution_count": 7
        }
      ]
    },
    {
      "cell_type": "code",
      "metadata": {
        "id": "K-CbrRWAy7-t"
      },
      "source": [
        "PETRESCUE=PETRESCUE.set_index('ID')"
      ],
      "execution_count": 8,
      "outputs": []
    },
    {
      "cell_type": "code",
      "metadata": {
        "colab": {
          "base_uri": "https://localhost:8080/",
          "height": 328
        },
        "id": "yDYMCheYy8VQ",
        "outputId": "3be84db1-ccdd-47ce-b66c-a22bcf514354"
      },
      "source": [
        "PETRESCUE.head(8)"
      ],
      "execution_count": 11,
      "outputs": [
        {
          "output_type": "execute_result",
          "data": {
            "text/html": [
              "<div>\n",
              "<style scoped>\n",
              "    .dataframe tbody tr th:only-of-type {\n",
              "        vertical-align: middle;\n",
              "    }\n",
              "\n",
              "    .dataframe tbody tr th {\n",
              "        vertical-align: top;\n",
              "    }\n",
              "\n",
              "    .dataframe thead th {\n",
              "        text-align: right;\n",
              "    }\n",
              "</style>\n",
              "<table border=\"1\" class=\"dataframe\">\n",
              "  <thead>\n",
              "    <tr style=\"text-align: right;\">\n",
              "      <th></th>\n",
              "      <th>ANIMAL</th>\n",
              "      <th>QUANTITY</th>\n",
              "      <th>COST</th>\n",
              "      <th>RESCUEDATE</th>\n",
              "    </tr>\n",
              "    <tr>\n",
              "      <th>ID</th>\n",
              "      <th></th>\n",
              "      <th></th>\n",
              "      <th></th>\n",
              "      <th></th>\n",
              "    </tr>\n",
              "  </thead>\n",
              "  <tbody>\n",
              "    <tr>\n",
              "      <th>1</th>\n",
              "      <td>Cat</td>\n",
              "      <td>9</td>\n",
              "      <td>450.09</td>\n",
              "      <td>2018-05-29</td>\n",
              "    </tr>\n",
              "    <tr>\n",
              "      <th>2</th>\n",
              "      <td>Dog</td>\n",
              "      <td>3</td>\n",
              "      <td>666.66</td>\n",
              "      <td>2018-06-01</td>\n",
              "    </tr>\n",
              "    <tr>\n",
              "      <th>3</th>\n",
              "      <td>Dog</td>\n",
              "      <td>1</td>\n",
              "      <td>100.00</td>\n",
              "      <td>2018-06-04</td>\n",
              "    </tr>\n",
              "    <tr>\n",
              "      <th>4</th>\n",
              "      <td>Parrot</td>\n",
              "      <td>2</td>\n",
              "      <td>50.00</td>\n",
              "      <td>2018-06-04</td>\n",
              "    </tr>\n",
              "    <tr>\n",
              "      <th>5</th>\n",
              "      <td>Dog</td>\n",
              "      <td>1</td>\n",
              "      <td>75.75</td>\n",
              "      <td>2018-06-10</td>\n",
              "    </tr>\n",
              "    <tr>\n",
              "      <th>6</th>\n",
              "      <td>Hamster</td>\n",
              "      <td>6</td>\n",
              "      <td>60.60</td>\n",
              "      <td>2018-06-11</td>\n",
              "    </tr>\n",
              "    <tr>\n",
              "      <th>7</th>\n",
              "      <td>Cat</td>\n",
              "      <td>1</td>\n",
              "      <td>44.44</td>\n",
              "      <td>2018-06-11</td>\n",
              "    </tr>\n",
              "    <tr>\n",
              "      <th>8</th>\n",
              "      <td>Goldfish</td>\n",
              "      <td>24</td>\n",
              "      <td>48.48</td>\n",
              "      <td>2018-06-14</td>\n",
              "    </tr>\n",
              "  </tbody>\n",
              "</table>\n",
              "</div>"
            ],
            "text/plain": [
              "      ANIMAL  QUANTITY    COST  RESCUEDATE\n",
              "ID                                        \n",
              "1        Cat         9  450.09  2018-05-29\n",
              "2        Dog         3  666.66  2018-06-01\n",
              "3        Dog         1  100.00  2018-06-04\n",
              "4     Parrot         2   50.00  2018-06-04\n",
              "5        Dog         1   75.75  2018-06-10\n",
              "6    Hamster         6   60.60  2018-06-11\n",
              "7        Cat         1   44.44  2018-06-11\n",
              "8   Goldfish        24   48.48  2018-06-14"
            ]
          },
          "metadata": {
            "tags": []
          },
          "execution_count": 11
        }
      ]
    },
    {
      "cell_type": "code",
      "metadata": {
        "id": "PW6nwIdpx9Y4"
      },
      "source": [
        "temp_db = create_engine('sqlite:///:memory:')\n",
        "PETRESCUE.to_sql(name='PETRESCUE',con=temp_db)"
      ],
      "execution_count": 12,
      "outputs": []
    },
    {
      "cell_type": "code",
      "metadata": {
        "colab": {
          "base_uri": "https://localhost:8080/",
          "height": 297
        },
        "id": "SavUBs1lygm4",
        "outputId": "462c15b8-dcbe-4823-93c4-eb2b5a8fc894"
      },
      "source": [
        "pd.read_sql(sql='PETRESCUE',con=temp_db)"
      ],
      "execution_count": 13,
      "outputs": [
        {
          "output_type": "execute_result",
          "data": {
            "text/html": [
              "<div>\n",
              "<style scoped>\n",
              "    .dataframe tbody tr th:only-of-type {\n",
              "        vertical-align: middle;\n",
              "    }\n",
              "\n",
              "    .dataframe tbody tr th {\n",
              "        vertical-align: top;\n",
              "    }\n",
              "\n",
              "    .dataframe thead th {\n",
              "        text-align: right;\n",
              "    }\n",
              "</style>\n",
              "<table border=\"1\" class=\"dataframe\">\n",
              "  <thead>\n",
              "    <tr style=\"text-align: right;\">\n",
              "      <th></th>\n",
              "      <th>ID</th>\n",
              "      <th>ANIMAL</th>\n",
              "      <th>QUANTITY</th>\n",
              "      <th>COST</th>\n",
              "      <th>RESCUEDATE</th>\n",
              "    </tr>\n",
              "  </thead>\n",
              "  <tbody>\n",
              "    <tr>\n",
              "      <th>0</th>\n",
              "      <td>1</td>\n",
              "      <td>Cat</td>\n",
              "      <td>9</td>\n",
              "      <td>450.09</td>\n",
              "      <td>2018-05-29</td>\n",
              "    </tr>\n",
              "    <tr>\n",
              "      <th>1</th>\n",
              "      <td>2</td>\n",
              "      <td>Dog</td>\n",
              "      <td>3</td>\n",
              "      <td>666.66</td>\n",
              "      <td>2018-06-01</td>\n",
              "    </tr>\n",
              "    <tr>\n",
              "      <th>2</th>\n",
              "      <td>3</td>\n",
              "      <td>Dog</td>\n",
              "      <td>1</td>\n",
              "      <td>100.00</td>\n",
              "      <td>2018-06-04</td>\n",
              "    </tr>\n",
              "    <tr>\n",
              "      <th>3</th>\n",
              "      <td>4</td>\n",
              "      <td>Parrot</td>\n",
              "      <td>2</td>\n",
              "      <td>50.00</td>\n",
              "      <td>2018-06-04</td>\n",
              "    </tr>\n",
              "    <tr>\n",
              "      <th>4</th>\n",
              "      <td>5</td>\n",
              "      <td>Dog</td>\n",
              "      <td>1</td>\n",
              "      <td>75.75</td>\n",
              "      <td>2018-06-10</td>\n",
              "    </tr>\n",
              "    <tr>\n",
              "      <th>5</th>\n",
              "      <td>6</td>\n",
              "      <td>Hamster</td>\n",
              "      <td>6</td>\n",
              "      <td>60.60</td>\n",
              "      <td>2018-06-11</td>\n",
              "    </tr>\n",
              "    <tr>\n",
              "      <th>6</th>\n",
              "      <td>7</td>\n",
              "      <td>Cat</td>\n",
              "      <td>1</td>\n",
              "      <td>44.44</td>\n",
              "      <td>2018-06-11</td>\n",
              "    </tr>\n",
              "    <tr>\n",
              "      <th>7</th>\n",
              "      <td>8</td>\n",
              "      <td>Goldfish</td>\n",
              "      <td>24</td>\n",
              "      <td>48.48</td>\n",
              "      <td>2018-06-14</td>\n",
              "    </tr>\n",
              "  </tbody>\n",
              "</table>\n",
              "</div>"
            ],
            "text/plain": [
              "   ID    ANIMAL  QUANTITY    COST  RESCUEDATE\n",
              "0   1       Cat         9  450.09  2018-05-29\n",
              "1   2       Dog         3  666.66  2018-06-01\n",
              "2   3       Dog         1  100.00  2018-06-04\n",
              "3   4    Parrot         2   50.00  2018-06-04\n",
              "4   5       Dog         1   75.75  2018-06-10\n",
              "5   6   Hamster         6   60.60  2018-06-11\n",
              "6   7       Cat         1   44.44  2018-06-11\n",
              "7   8  Goldfish        24   48.48  2018-06-14"
            ]
          },
          "metadata": {
            "tags": []
          },
          "execution_count": 13
        }
      ]
    },
    {
      "cell_type": "code",
      "metadata": {
        "id": "wj4fXGRxz4qm",
        "colab": {
          "base_uri": "https://localhost:8080/",
          "height": 297
        },
        "outputId": "4d78931d-f86c-4ae3-a9bf-042b5dfd3714"
      },
      "source": [
        "pd.read_sql_query(sql=\"\"\"SELECT *  FROM PETRESCUE\"\"\",con=temp_db)"
      ],
      "execution_count": 14,
      "outputs": [
        {
          "output_type": "execute_result",
          "data": {
            "text/html": [
              "<div>\n",
              "<style scoped>\n",
              "    .dataframe tbody tr th:only-of-type {\n",
              "        vertical-align: middle;\n",
              "    }\n",
              "\n",
              "    .dataframe tbody tr th {\n",
              "        vertical-align: top;\n",
              "    }\n",
              "\n",
              "    .dataframe thead th {\n",
              "        text-align: right;\n",
              "    }\n",
              "</style>\n",
              "<table border=\"1\" class=\"dataframe\">\n",
              "  <thead>\n",
              "    <tr style=\"text-align: right;\">\n",
              "      <th></th>\n",
              "      <th>ID</th>\n",
              "      <th>ANIMAL</th>\n",
              "      <th>QUANTITY</th>\n",
              "      <th>COST</th>\n",
              "      <th>RESCUEDATE</th>\n",
              "    </tr>\n",
              "  </thead>\n",
              "  <tbody>\n",
              "    <tr>\n",
              "      <th>0</th>\n",
              "      <td>1</td>\n",
              "      <td>Cat</td>\n",
              "      <td>9</td>\n",
              "      <td>450.09</td>\n",
              "      <td>2018-05-29</td>\n",
              "    </tr>\n",
              "    <tr>\n",
              "      <th>1</th>\n",
              "      <td>2</td>\n",
              "      <td>Dog</td>\n",
              "      <td>3</td>\n",
              "      <td>666.66</td>\n",
              "      <td>2018-06-01</td>\n",
              "    </tr>\n",
              "    <tr>\n",
              "      <th>2</th>\n",
              "      <td>3</td>\n",
              "      <td>Dog</td>\n",
              "      <td>1</td>\n",
              "      <td>100.00</td>\n",
              "      <td>2018-06-04</td>\n",
              "    </tr>\n",
              "    <tr>\n",
              "      <th>3</th>\n",
              "      <td>4</td>\n",
              "      <td>Parrot</td>\n",
              "      <td>2</td>\n",
              "      <td>50.00</td>\n",
              "      <td>2018-06-04</td>\n",
              "    </tr>\n",
              "    <tr>\n",
              "      <th>4</th>\n",
              "      <td>5</td>\n",
              "      <td>Dog</td>\n",
              "      <td>1</td>\n",
              "      <td>75.75</td>\n",
              "      <td>2018-06-10</td>\n",
              "    </tr>\n",
              "    <tr>\n",
              "      <th>5</th>\n",
              "      <td>6</td>\n",
              "      <td>Hamster</td>\n",
              "      <td>6</td>\n",
              "      <td>60.60</td>\n",
              "      <td>2018-06-11</td>\n",
              "    </tr>\n",
              "    <tr>\n",
              "      <th>6</th>\n",
              "      <td>7</td>\n",
              "      <td>Cat</td>\n",
              "      <td>1</td>\n",
              "      <td>44.44</td>\n",
              "      <td>2018-06-11</td>\n",
              "    </tr>\n",
              "    <tr>\n",
              "      <th>7</th>\n",
              "      <td>8</td>\n",
              "      <td>Goldfish</td>\n",
              "      <td>24</td>\n",
              "      <td>48.48</td>\n",
              "      <td>2018-06-14</td>\n",
              "    </tr>\n",
              "  </tbody>\n",
              "</table>\n",
              "</div>"
            ],
            "text/plain": [
              "   ID    ANIMAL  QUANTITY    COST  RESCUEDATE\n",
              "0   1       Cat         9  450.09  2018-05-29\n",
              "1   2       Dog         3  666.66  2018-06-01\n",
              "2   3       Dog         1  100.00  2018-06-04\n",
              "3   4    Parrot         2   50.00  2018-06-04\n",
              "4   5       Dog         1   75.75  2018-06-10\n",
              "5   6   Hamster         6   60.60  2018-06-11\n",
              "6   7       Cat         1   44.44  2018-06-11\n",
              "7   8  Goldfish        24   48.48  2018-06-14"
            ]
          },
          "metadata": {
            "tags": []
          },
          "execution_count": 14
        }
      ]
    },
    {
      "cell_type": "markdown",
      "metadata": {
        "id": "EHtHn1X7Az2P"
      },
      "source": [
        "# Exercise 2: Aggregate Functions\n",
        "* Query A1: Enter a function that calculates the total cost of all animal rescues in the PETRESCUE table.\n",
        "\n",
        "* Query A2: Enter a function that displays the total cost of all animal rescues in the PETRESCUE table in a column called SUM_OF_COST.\n",
        "\n",
        "* Query A3: Enter a function that displays the maximum quantity of animals rescued.\n",
        "\n",
        "* Query A4: Enter a function that displays the average cost of animals rescued.\n",
        "\n",
        "* Query A5: Enter a function that displays the average cost of rescuing a dog.\n"
      ]
    },
    {
      "cell_type": "code",
      "metadata": {
        "colab": {
          "base_uri": "https://localhost:8080/",
          "height": 80
        },
        "id": "hjH_IgbWAy1b",
        "outputId": "b4655a88-3859-4b71-9054-cf995b09fc06"
      },
      "source": [
        "#Query A1\n",
        "pd.read_sql_query(sql=\"\"\"\n",
        "\n",
        "                        SELECT SUM(COST)  FROM PETRESCUE\n",
        "\n",
        "                      \"\"\",con=temp_db)"
      ],
      "execution_count": 15,
      "outputs": [
        {
          "output_type": "execute_result",
          "data": {
            "text/html": [
              "<div>\n",
              "<style scoped>\n",
              "    .dataframe tbody tr th:only-of-type {\n",
              "        vertical-align: middle;\n",
              "    }\n",
              "\n",
              "    .dataframe tbody tr th {\n",
              "        vertical-align: top;\n",
              "    }\n",
              "\n",
              "    .dataframe thead th {\n",
              "        text-align: right;\n",
              "    }\n",
              "</style>\n",
              "<table border=\"1\" class=\"dataframe\">\n",
              "  <thead>\n",
              "    <tr style=\"text-align: right;\">\n",
              "      <th></th>\n",
              "      <th>SUM(COST)</th>\n",
              "    </tr>\n",
              "  </thead>\n",
              "  <tbody>\n",
              "    <tr>\n",
              "      <th>0</th>\n",
              "      <td>1496.02</td>\n",
              "    </tr>\n",
              "  </tbody>\n",
              "</table>\n",
              "</div>"
            ],
            "text/plain": [
              "   SUM(COST)\n",
              "0    1496.02"
            ]
          },
          "metadata": {
            "tags": []
          },
          "execution_count": 15
        }
      ]
    },
    {
      "cell_type": "code",
      "metadata": {
        "colab": {
          "base_uri": "https://localhost:8080/",
          "height": 80
        },
        "id": "IHwXQ7poLbBF",
        "outputId": "c4960f54-0adf-4b37-ac0f-e77d51a54918"
      },
      "source": [
        "#Query A2\n",
        "pd.read_sql_query(sql=\"\"\"\n",
        "\n",
        "                          SELECT SUM(COST) AS SUM_OF_COST FROM PETRESCUE\n",
        "                          \n",
        "                      \"\"\",con=temp_db)"
      ],
      "execution_count": 16,
      "outputs": [
        {
          "output_type": "execute_result",
          "data": {
            "text/html": [
              "<div>\n",
              "<style scoped>\n",
              "    .dataframe tbody tr th:only-of-type {\n",
              "        vertical-align: middle;\n",
              "    }\n",
              "\n",
              "    .dataframe tbody tr th {\n",
              "        vertical-align: top;\n",
              "    }\n",
              "\n",
              "    .dataframe thead th {\n",
              "        text-align: right;\n",
              "    }\n",
              "</style>\n",
              "<table border=\"1\" class=\"dataframe\">\n",
              "  <thead>\n",
              "    <tr style=\"text-align: right;\">\n",
              "      <th></th>\n",
              "      <th>SUM_OF_COST</th>\n",
              "    </tr>\n",
              "  </thead>\n",
              "  <tbody>\n",
              "    <tr>\n",
              "      <th>0</th>\n",
              "      <td>1496.02</td>\n",
              "    </tr>\n",
              "  </tbody>\n",
              "</table>\n",
              "</div>"
            ],
            "text/plain": [
              "   SUM_OF_COST\n",
              "0      1496.02"
            ]
          },
          "metadata": {
            "tags": []
          },
          "execution_count": 16
        }
      ]
    },
    {
      "cell_type": "code",
      "metadata": {
        "colab": {
          "base_uri": "https://localhost:8080/",
          "height": 80
        },
        "id": "b5DgjSzZLa6X",
        "outputId": "9281e06d-459f-4dc5-c293-0049039c8067"
      },
      "source": [
        "#Query A3\n",
        "pd.read_sql_query(sql=\"\"\"\n",
        "\n",
        "                        SELECT MAX(QUANTITY)  FROM PETRESCUE\n",
        "                        \n",
        "                      \"\"\",con=temp_db)"
      ],
      "execution_count": 17,
      "outputs": [
        {
          "output_type": "execute_result",
          "data": {
            "text/html": [
              "<div>\n",
              "<style scoped>\n",
              "    .dataframe tbody tr th:only-of-type {\n",
              "        vertical-align: middle;\n",
              "    }\n",
              "\n",
              "    .dataframe tbody tr th {\n",
              "        vertical-align: top;\n",
              "    }\n",
              "\n",
              "    .dataframe thead th {\n",
              "        text-align: right;\n",
              "    }\n",
              "</style>\n",
              "<table border=\"1\" class=\"dataframe\">\n",
              "  <thead>\n",
              "    <tr style=\"text-align: right;\">\n",
              "      <th></th>\n",
              "      <th>MAX(QUANTITY)</th>\n",
              "    </tr>\n",
              "  </thead>\n",
              "  <tbody>\n",
              "    <tr>\n",
              "      <th>0</th>\n",
              "      <td>24</td>\n",
              "    </tr>\n",
              "  </tbody>\n",
              "</table>\n",
              "</div>"
            ],
            "text/plain": [
              "   MAX(QUANTITY)\n",
              "0             24"
            ]
          },
          "metadata": {
            "tags": []
          },
          "execution_count": 17
        }
      ]
    },
    {
      "cell_type": "code",
      "metadata": {
        "colab": {
          "base_uri": "https://localhost:8080/",
          "height": 80
        },
        "id": "VzyM4KEfLayn",
        "outputId": "30c98c77-cacb-4118-852d-09bf6ef9bca2"
      },
      "source": [
        "#Query A4\n",
        "pd.read_sql_query(sql=\"\"\"\n",
        "                          SELECT AVG(COST)  FROM PETRESCUE\n",
        "                          \n",
        "                        \"\"\",con=temp_db)"
      ],
      "execution_count": 18,
      "outputs": [
        {
          "output_type": "execute_result",
          "data": {
            "text/html": [
              "<div>\n",
              "<style scoped>\n",
              "    .dataframe tbody tr th:only-of-type {\n",
              "        vertical-align: middle;\n",
              "    }\n",
              "\n",
              "    .dataframe tbody tr th {\n",
              "        vertical-align: top;\n",
              "    }\n",
              "\n",
              "    .dataframe thead th {\n",
              "        text-align: right;\n",
              "    }\n",
              "</style>\n",
              "<table border=\"1\" class=\"dataframe\">\n",
              "  <thead>\n",
              "    <tr style=\"text-align: right;\">\n",
              "      <th></th>\n",
              "      <th>AVG(COST)</th>\n",
              "    </tr>\n",
              "  </thead>\n",
              "  <tbody>\n",
              "    <tr>\n",
              "      <th>0</th>\n",
              "      <td>187.0025</td>\n",
              "    </tr>\n",
              "  </tbody>\n",
              "</table>\n",
              "</div>"
            ],
            "text/plain": [
              "   AVG(COST)\n",
              "0   187.0025"
            ]
          },
          "metadata": {
            "tags": []
          },
          "execution_count": 18
        }
      ]
    },
    {
      "cell_type": "code",
      "metadata": {
        "colab": {
          "base_uri": "https://localhost:8080/",
          "height": 80
        },
        "id": "FzJx7OMKLane",
        "outputId": "a1acec9d-f728-4e06-a624-4c8d87f40e3d"
      },
      "source": [
        "#Query A5\n",
        "pd.read_sql_query(sql=\"\"\"\n",
        "                          SELECT AVG(COST/QUANTITY)\n",
        "                          FROM PETRESCUE\n",
        "                          WHERE ANIMAL='Dog'\n",
        "             \n",
        "                        \"\"\",con=temp_db)"
      ],
      "execution_count": 27,
      "outputs": [
        {
          "output_type": "execute_result",
          "data": {
            "text/html": [
              "<div>\n",
              "<style scoped>\n",
              "    .dataframe tbody tr th:only-of-type {\n",
              "        vertical-align: middle;\n",
              "    }\n",
              "\n",
              "    .dataframe tbody tr th {\n",
              "        vertical-align: top;\n",
              "    }\n",
              "\n",
              "    .dataframe thead th {\n",
              "        text-align: right;\n",
              "    }\n",
              "</style>\n",
              "<table border=\"1\" class=\"dataframe\">\n",
              "  <thead>\n",
              "    <tr style=\"text-align: right;\">\n",
              "      <th></th>\n",
              "      <th>AVG(COST/QUANTITY)</th>\n",
              "    </tr>\n",
              "  </thead>\n",
              "  <tbody>\n",
              "    <tr>\n",
              "      <th>0</th>\n",
              "      <td>132.656667</td>\n",
              "    </tr>\n",
              "  </tbody>\n",
              "</table>\n",
              "</div>"
            ],
            "text/plain": [
              "   AVG(COST/QUANTITY)\n",
              "0          132.656667"
            ]
          },
          "metadata": {
            "tags": []
          },
          "execution_count": 27
        }
      ]
    },
    {
      "cell_type": "markdown",
      "metadata": {
        "id": "_K_QH2wEBAlh"
      },
      "source": [
        "\n",
        "\n",
        "# Exercise 3: Scalar and String Functions\n",
        "* Query B1: Enter a function that displays the rounded cost of each rescue.\n",
        "\n",
        "* Query B2: Enter a function that displays the length of each animal name.\n",
        "\n",
        "* Query B3: Enter a function that displays the animal name in each rescue in uppercase.\n",
        "\n",
        "* Query B4: Enter a function that displays the animal name in each rescue in uppercase without duplications.\n",
        "\n",
        "* Query B5: Enter a query that displays all the columns from the PETRESCUE table, where the animal(s) rescued are cats. Use cat in lower case in the query.\n",
        "\n"
      ]
    },
    {
      "cell_type": "code",
      "metadata": {
        "colab": {
          "base_uri": "https://localhost:8080/",
          "height": 297
        },
        "id": "e_T3rcgLBE9x",
        "outputId": "b111ea25-0739-4c4b-ee71-fd5dd1c2a683"
      },
      "source": [
        "#Query B1\n",
        "pd.read_sql_query(sql=\"\"\"\n",
        "                          SELECT ROUND(COST)  \n",
        "                          FROM PETRESCUE\n",
        "                          \n",
        "                        \"\"\",con=temp_db)"
      ],
      "execution_count": 29,
      "outputs": [
        {
          "output_type": "execute_result",
          "data": {
            "text/html": [
              "<div>\n",
              "<style scoped>\n",
              "    .dataframe tbody tr th:only-of-type {\n",
              "        vertical-align: middle;\n",
              "    }\n",
              "\n",
              "    .dataframe tbody tr th {\n",
              "        vertical-align: top;\n",
              "    }\n",
              "\n",
              "    .dataframe thead th {\n",
              "        text-align: right;\n",
              "    }\n",
              "</style>\n",
              "<table border=\"1\" class=\"dataframe\">\n",
              "  <thead>\n",
              "    <tr style=\"text-align: right;\">\n",
              "      <th></th>\n",
              "      <th>ROUND(COST)</th>\n",
              "    </tr>\n",
              "  </thead>\n",
              "  <tbody>\n",
              "    <tr>\n",
              "      <th>0</th>\n",
              "      <td>450.0</td>\n",
              "    </tr>\n",
              "    <tr>\n",
              "      <th>1</th>\n",
              "      <td>667.0</td>\n",
              "    </tr>\n",
              "    <tr>\n",
              "      <th>2</th>\n",
              "      <td>100.0</td>\n",
              "    </tr>\n",
              "    <tr>\n",
              "      <th>3</th>\n",
              "      <td>50.0</td>\n",
              "    </tr>\n",
              "    <tr>\n",
              "      <th>4</th>\n",
              "      <td>76.0</td>\n",
              "    </tr>\n",
              "    <tr>\n",
              "      <th>5</th>\n",
              "      <td>61.0</td>\n",
              "    </tr>\n",
              "    <tr>\n",
              "      <th>6</th>\n",
              "      <td>44.0</td>\n",
              "    </tr>\n",
              "    <tr>\n",
              "      <th>7</th>\n",
              "      <td>48.0</td>\n",
              "    </tr>\n",
              "  </tbody>\n",
              "</table>\n",
              "</div>"
            ],
            "text/plain": [
              "   ROUND(COST)\n",
              "0        450.0\n",
              "1        667.0\n",
              "2        100.0\n",
              "3         50.0\n",
              "4         76.0\n",
              "5         61.0\n",
              "6         44.0\n",
              "7         48.0"
            ]
          },
          "metadata": {
            "tags": []
          },
          "execution_count": 29
        }
      ]
    },
    {
      "cell_type": "code",
      "metadata": {
        "colab": {
          "base_uri": "https://localhost:8080/",
          "height": 297
        },
        "id": "YtfbW9JgMCy9",
        "outputId": "5e4fffd1-c602-4c06-c53f-ef4f28fa5027"
      },
      "source": [
        "#Query B2\n",
        "pd.read_sql_query(sql=\"\"\"\n",
        "                          SELECT LENGTH(ANIMAL)\n",
        "                          FROM PETRESCUE\n",
        "                          \n",
        "                        \"\"\",con=temp_db)"
      ],
      "execution_count": 30,
      "outputs": [
        {
          "output_type": "execute_result",
          "data": {
            "text/html": [
              "<div>\n",
              "<style scoped>\n",
              "    .dataframe tbody tr th:only-of-type {\n",
              "        vertical-align: middle;\n",
              "    }\n",
              "\n",
              "    .dataframe tbody tr th {\n",
              "        vertical-align: top;\n",
              "    }\n",
              "\n",
              "    .dataframe thead th {\n",
              "        text-align: right;\n",
              "    }\n",
              "</style>\n",
              "<table border=\"1\" class=\"dataframe\">\n",
              "  <thead>\n",
              "    <tr style=\"text-align: right;\">\n",
              "      <th></th>\n",
              "      <th>LENGTH(ANIMAL)</th>\n",
              "    </tr>\n",
              "  </thead>\n",
              "  <tbody>\n",
              "    <tr>\n",
              "      <th>0</th>\n",
              "      <td>3</td>\n",
              "    </tr>\n",
              "    <tr>\n",
              "      <th>1</th>\n",
              "      <td>3</td>\n",
              "    </tr>\n",
              "    <tr>\n",
              "      <th>2</th>\n",
              "      <td>3</td>\n",
              "    </tr>\n",
              "    <tr>\n",
              "      <th>3</th>\n",
              "      <td>6</td>\n",
              "    </tr>\n",
              "    <tr>\n",
              "      <th>4</th>\n",
              "      <td>3</td>\n",
              "    </tr>\n",
              "    <tr>\n",
              "      <th>5</th>\n",
              "      <td>7</td>\n",
              "    </tr>\n",
              "    <tr>\n",
              "      <th>6</th>\n",
              "      <td>3</td>\n",
              "    </tr>\n",
              "    <tr>\n",
              "      <th>7</th>\n",
              "      <td>8</td>\n",
              "    </tr>\n",
              "  </tbody>\n",
              "</table>\n",
              "</div>"
            ],
            "text/plain": [
              "   LENGTH(ANIMAL)\n",
              "0               3\n",
              "1               3\n",
              "2               3\n",
              "3               6\n",
              "4               3\n",
              "5               7\n",
              "6               3\n",
              "7               8"
            ]
          },
          "metadata": {
            "tags": []
          },
          "execution_count": 30
        }
      ]
    },
    {
      "cell_type": "code",
      "metadata": {
        "id": "26BauXLDMCFB"
      },
      "source": [
        "#Query B3\n",
        "pd.read_sql_query(sql=\"\"\"\n",
        "                      SELECT UCASE(ANIMAL) FROM PETRESCUE\n",
        "                       \"\"\",con=temp_db)"
      ],
      "execution_count": 1,
      "outputs": []
    },
    {
      "cell_type": "code",
      "metadata": {
        "id": "It7wvXnLMCCY"
      },
      "source": [
        "#Query B4\n",
        "pd.read_sql_query(sql=\"\"\" \n",
        "                        SELECT DISTINCT(UCASE(ANIMAL)) \n",
        "                        FROM PETRESCUE \n",
        "                        \n",
        "                      \"\"\",con=temp_db)"
      ],
      "execution_count": 2,
      "outputs": []
    },
    {
      "cell_type": "code",
      "metadata": {
        "id": "WjevbLulMB_X"
      },
      "source": [
        "#Query B5\n",
        "pd.read_sql_query(sql=\"\"\"\n",
        "                          SELECT * FROM PETRESCUE \n",
        "                          WHERE LCASE(ANIMAL)='cat'\n",
        "                          \n",
        "                        \"\"\",con=temp_db)"
      ],
      "execution_count": 3,
      "outputs": []
    },
    {
      "cell_type": "markdown",
      "metadata": {
        "id": "8r2dLqEPBFUq"
      },
      "source": [
        "\n",
        "# Exercise 4: Date and Time Functions\n",
        "* Query C1: Enter a function that displays the day of the month when cats have been rescued.\n",
        "\n",
        "* Query C2: Enter a function that displays the number of rescues on the 5th month.\n",
        "\n",
        "* Query C3: Enter a function that displays the number of rescues on the 14th day of the month.\n",
        "\n",
        "* Query C4: Animals rescued should see the vet within three days of arrivals. Enter a function that displays the third day from each rescue.\n",
        "\n",
        "* Query C5: Enter a function that displays the length of time the animals have been rescued; the difference between today’s date and the rescue date."
      ]
    },
    {
      "cell_type": "code",
      "metadata": {
        "id": "C2P4-FHJMW0C"
      },
      "source": [
        "#Query C1\n",
        "pd.read_sql_query(sql=\"\"\"\n",
        "                          SELECT DAY(RESCUEDATE) FROM PETRESCUE \n",
        "                          WHERE ANIMAL='Cat';\n",
        "                          \n",
        "                        \"\"\",con=temp_db)"
      ],
      "execution_count": 4,
      "outputs": []
    },
    {
      "cell_type": "code",
      "metadata": {
        "id": "LPcTCJm3MW0C"
      },
      "source": [
        "#Query C2\n",
        "pd.read_sql_query(sql=\"\"\"\n",
        "                          SELECT SUM(QUANTITY) FROM PETRESCUE\n",
        "                          WHERE MONTH(RESCUEDATE)=05\n",
        "                          \n",
        "                        \"\"\",con=temp_db)"
      ],
      "execution_count": null,
      "outputs": []
    },
    {
      "cell_type": "code",
      "metadata": {
        "id": "bKDDgqxdMW0D"
      },
      "source": [
        "#Query C3\n",
        "pd.read_sql_query(sql=\"\"\"\n",
        "                          SELECT SUM(QUANTITY) FROM PETRESCUE\n",
        "                          WHERE DAY(RESCUEDATE)=14\n",
        "                          \n",
        "                        \"\"\",con=temp_db)"
      ],
      "execution_count": null,
      "outputs": []
    },
    {
      "cell_type": "code",
      "metadata": {
        "id": "BIh7v2PUMW0D"
      },
      "source": [
        "#Query C4\n",
        "pd.read_sql_query(sql=\"\"\"\n",
        "                          SELECT (RESCUEDATE + 3 DAYS)\n",
        "                          FROM PETRESCUE\n",
        "                          \n",
        "                        \"\"\",con=temp_db)"
      ],
      "execution_count": null,
      "outputs": []
    },
    {
      "cell_type": "code",
      "metadata": {
        "id": "N1K8KLjgMW0E"
      },
      "source": [
        "#Query C5\n",
        "pd.read_sql_query(sql=\"\"\"\n",
        "                          SELECT (CURRENT DATE - RESCUEDATE) FROM PETRESCUE;\n",
        "                          \n",
        "                        \"\"\",con=temp_db)"
      ],
      "execution_count": null,
      "outputs": []
    },
    {
      "cell_type": "markdown",
      "metadata": {
        "id": "EVtefnmm4VZS"
      },
      "source": [
        "\n",
        "\n",
        "---\n",
        "\n"
      ]
    }
  ]
}