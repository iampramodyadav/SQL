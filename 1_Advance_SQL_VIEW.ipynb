{
  "nbformat": 4,
  "nbformat_minor": 0,
  "metadata": {
    "kernelspec": {
      "display_name": "Python 3",
      "language": "python",
      "name": "python3"
    },
    "language_info": {
      "codemirror_mode": {
        "name": "ipython",
        "version": 3
      },
      "file_extension": ".py",
      "mimetype": "text/x-python",
      "name": "python",
      "nbconvert_exporter": "python",
      "pygments_lexer": "ipython3",
      "version": "3.8.3"
    },
    "colab": {
      "name": "1.Advance-SQL-VIEW.ipynb",
      "provenance": [],
      "toc_visible": true,
      "include_colab_link": true
    }
  },
  "cells": [
    {
      "cell_type": "markdown",
      "metadata": {
        "id": "view-in-github",
        "colab_type": "text"
      },
      "source": [
        "<a href=\"https://colab.research.google.com/github/iampramodyadav/SQL/blob/main/1_Advance_SQL_VIEW.ipynb\" target=\"_parent\"><img src=\"https://colab.research.google.com/assets/colab-badge.svg\" alt=\"Open In Colab\"/></a>"
      ]
    },
    {
      "cell_type": "markdown",
      "metadata": {
        "id": "AfkrnmG0TmYq"
      },
      "source": [
        "<center>\n",
        "    <img src=\"https://github.com/iampramodyadav/iampramodyadav/blob/main/mech-code1.png?raw=trueg\" width=\"300\" alt=\"@iampramodyadav logo\"  />\n",
        "</center>\n",
        "\n",
        "<h1 align=center><font size = 5>Hands-on Lab: Using Views</font></h1>\n"
      ]
    },
    {
      "cell_type": "markdown",
      "metadata": {
        "id": "MaGO2fgoTmYr"
      },
      "source": [
        "# Hands-on Lab: Using Views\n",
        "\n",
        "**Software Used in this Lab:**\n",
        "\n",
        "In this lab, I have used IBM Db2 Database. Db2 is a Relational Database Management System (RDBMS) from IBM, designed to store, analyze and retrieve the data efficiently. \n"
      ]
    },
    {
      "cell_type": "markdown",
      "metadata": {
        "id": "JcO0eiqLTmYw"
      },
      "source": [
        "### Connect to the database\n",
        "\n",
        "Let us first load the SQL extension and establish a connection with the database\n"
      ]
    },
    {
      "cell_type": "code",
      "metadata": {
        "id": "BAvWU-UNWjju"
      },
      "source": [
        "#ibm_db.close(conn)"
      ],
      "execution_count": 5,
      "outputs": []
    },
    {
      "cell_type": "code",
      "metadata": {
        "colab": {
          "base_uri": "https://localhost:8080/"
        },
        "id": "_zmSKAfE_rgr",
        "outputId": "fe412a0d-b174-40d9-e03a-7a54515f10f7"
      },
      "source": [
        "!pip install ibm_db"
      ],
      "execution_count": 1,
      "outputs": [
        {
          "output_type": "stream",
          "text": [
            "Requirement already satisfied: ibm_db in /usr/local/lib/python3.7/dist-packages (3.0.4)\n"
          ],
          "name": "stdout"
        }
      ]
    },
    {
      "cell_type": "code",
      "metadata": {
        "colab": {
          "base_uri": "https://localhost:8080/"
        },
        "id": "BFyXsP0BTmYx",
        "outputId": "c1924eea-32c2-4734-e521-e876179ca52d"
      },
      "source": [
        "!pip install sqlalchemy==1.3.9\n",
        "!pip install ibm_db_sa"
      ],
      "execution_count": 2,
      "outputs": [
        {
          "output_type": "stream",
          "text": [
            "Requirement already satisfied: sqlalchemy==1.3.9 in /usr/local/lib/python3.7/dist-packages (1.3.9)\n",
            "Requirement already satisfied: ibm_db_sa in /usr/local/lib/python3.7/dist-packages (0.3.6)\n",
            "Requirement already satisfied: ibm-db>=2.0.0 in /usr/local/lib/python3.7/dist-packages (from ibm_db_sa) (3.0.4)\n",
            "Requirement already satisfied: sqlalchemy>=0.7.3 in /usr/local/lib/python3.7/dist-packages (from ibm_db_sa) (1.3.9)\n"
          ],
          "name": "stdout"
        }
      ]
    },
    {
      "cell_type": "code",
      "metadata": {
        "id": "IgB0b27XTmYy"
      },
      "source": [
        "%load_ext sql"
      ],
      "execution_count": 3,
      "outputs": []
    },
    {
      "cell_type": "markdown",
      "metadata": {
        "id": "iopYxcHmTmYy"
      },
      "source": [
        "In the next cell enter your db2 connection string. Recall you created Service Credentials for your Db2 instance in first lab in Week 3. From the **uri** field of your Db2 service credentials copy everything after db2:// (except the double quote at the end) and paste it in the cell below after ibm_db_sa://\n",
        "\n",
        "<img src =\"https://cf-courses-data.s3.us.cloud-object-storage.appdomain.cloud/IBMDeveloperSkillsNetwork-DB0201EN-SkillsNetwork/labs/FinalModule_edX/images/URI.jpg\">\n"
      ]
    },
    {
      "cell_type": "code",
      "metadata": {
        "id": "2tJSAE9fTmYz",
        "colab": {
          "base_uri": "https://localhost:8080/",
          "height": 52
        },
        "outputId": "ed30d559-b61e-4ea9-e919-b1c3a8a709aa"
      },
      "source": [
        "# Remember the connection string is of the format:\n",
        "# %sql ibm_db_sa://my-username:my-password@my-hostname:my-port/my-db-name\n",
        "# Enter the connection string for your Db2 on Cloud database instance below\n",
        "%sql ibm_db_sa://xwm95583:h64rqqdbfgp%5Eqbln@dashdb-txn-sbox-yp-dal09-14.services.dal.bluemix.net:50000/BLUDB"
      ],
      "execution_count": 4,
      "outputs": [
        {
          "output_type": "stream",
          "text": [
            "DB2/LINUXX8664\n"
          ],
          "name": "stdout"
        },
        {
          "output_type": "execute_result",
          "data": {
            "application/vnd.google.colaboratory.intrinsic+json": {
              "type": "string"
            },
            "text/plain": [
              "'Connected: xwm95583@BLUDB'"
            ]
          },
          "metadata": {
            "tags": []
          },
          "execution_count": 4
        }
      ]
    },
    {
      "cell_type": "code",
      "metadata": {
        "colab": {
          "base_uri": "https://localhost:8080/",
          "height": 352
        },
        "id": "Hi55pBL3XMfp",
        "outputId": "71dc358b-d95a-4c93-a864-75c47c63e030"
      },
      "source": [
        "\n",
        "%sql SELECT * FROM CHICAGO_CRIME_DATA LIMIT 5"
      ],
      "execution_count": 17,
      "outputs": [
        {
          "output_type": "stream",
          "text": [
            " * ibm_db_sa://xwm95583:***@dashdb-txn-sbox-yp-dal09-14.services.dal.bluemix.net:50000/BLUDB\n",
            "Done.\n"
          ],
          "name": "stdout"
        },
        {
          "output_type": "execute_result",
          "data": {
            "text/html": [
              "<table>\n",
              "    <thead>\n",
              "        <tr>\n",
              "            <th>id</th>\n",
              "            <th>case_number</th>\n",
              "            <th>DATE</th>\n",
              "            <th>block</th>\n",
              "            <th>iucr</th>\n",
              "            <th>primary_type</th>\n",
              "            <th>description</th>\n",
              "            <th>location_description</th>\n",
              "            <th>arrest</th>\n",
              "            <th>domestic</th>\n",
              "            <th>beat</th>\n",
              "            <th>district</th>\n",
              "            <th>ward</th>\n",
              "            <th>community_area_number</th>\n",
              "            <th>fbicode</th>\n",
              "            <th>x_coordinate</th>\n",
              "            <th>y_coordinate</th>\n",
              "            <th>YEAR</th>\n",
              "            <th>latitude</th>\n",
              "            <th>longitude</th>\n",
              "            <th>location</th>\n",
              "        </tr>\n",
              "    </thead>\n",
              "    <tbody>\n",
              "        <tr>\n",
              "            <td>3512276</td>\n",
              "            <td>HK587712</td>\n",
              "            <td>2004-08-28</td>\n",
              "            <td>047XX S KEDZIE AVE</td>\n",
              "            <td>890</td>\n",
              "            <td>THEFT</td>\n",
              "            <td>FROM BUILDING</td>\n",
              "            <td>SMALL RETAIL STORE</td>\n",
              "            <td>FALSE</td>\n",
              "            <td>FALSE</td>\n",
              "            <td>911</td>\n",
              "            <td>9</td>\n",
              "            <td>14</td>\n",
              "            <td>58</td>\n",
              "            <td>6</td>\n",
              "            <td>1155838</td>\n",
              "            <td>1873050</td>\n",
              "            <td>2004</td>\n",
              "            <td>41.80744050</td>\n",
              "            <td>-87.70395585</td>\n",
              "            <td>(41.8074405, -87.703955849)</td>\n",
              "        </tr>\n",
              "        <tr>\n",
              "            <td>3406613</td>\n",
              "            <td>HK456306</td>\n",
              "            <td>2004-06-26</td>\n",
              "            <td>009XX N CENTRAL PARK AVE</td>\n",
              "            <td>820</td>\n",
              "            <td>THEFT</td>\n",
              "            <td>$500 AND UNDER</td>\n",
              "            <td>OTHER</td>\n",
              "            <td>FALSE</td>\n",
              "            <td>FALSE</td>\n",
              "            <td>1112</td>\n",
              "            <td>11</td>\n",
              "            <td>27</td>\n",
              "            <td>23</td>\n",
              "            <td>6</td>\n",
              "            <td>1152206</td>\n",
              "            <td>1906127</td>\n",
              "            <td>2004</td>\n",
              "            <td>41.89827996</td>\n",
              "            <td>-87.71640551</td>\n",
              "            <td>(41.898279962, -87.716405505)</td>\n",
              "        </tr>\n",
              "        <tr>\n",
              "            <td>8002131</td>\n",
              "            <td>HT233595</td>\n",
              "            <td>2011-04-04</td>\n",
              "            <td>043XX S WABASH AVE</td>\n",
              "            <td>820</td>\n",
              "            <td>THEFT</td>\n",
              "            <td>$500 AND UNDER</td>\n",
              "            <td>NURSING HOME/RETIREMENT HOME</td>\n",
              "            <td>FALSE</td>\n",
              "            <td>FALSE</td>\n",
              "            <td>221</td>\n",
              "            <td>2</td>\n",
              "            <td>3</td>\n",
              "            <td>38</td>\n",
              "            <td>6</td>\n",
              "            <td>1177436</td>\n",
              "            <td>1876313</td>\n",
              "            <td>2011</td>\n",
              "            <td>41.81593313</td>\n",
              "            <td>-87.62464213</td>\n",
              "            <td>(41.815933131, -87.624642127)</td>\n",
              "        </tr>\n",
              "        <tr>\n",
              "            <td>7903289</td>\n",
              "            <td>HT133522</td>\n",
              "            <td>2010-12-30</td>\n",
              "            <td>083XX S KINGSTON AVE</td>\n",
              "            <td>840</td>\n",
              "            <td>THEFT</td>\n",
              "            <td>FINANCIAL ID THEFT: OVER $300</td>\n",
              "            <td>RESIDENCE</td>\n",
              "            <td>FALSE</td>\n",
              "            <td>FALSE</td>\n",
              "            <td>423</td>\n",
              "            <td>4</td>\n",
              "            <td>7</td>\n",
              "            <td>46</td>\n",
              "            <td>6</td>\n",
              "            <td>1194622</td>\n",
              "            <td>1850125</td>\n",
              "            <td>2010</td>\n",
              "            <td>41.74366532</td>\n",
              "            <td>-87.56246276</td>\n",
              "            <td>(41.743665322, -87.562462756)</td>\n",
              "        </tr>\n",
              "        <tr>\n",
              "            <td>10402076</td>\n",
              "            <td>HZ138551</td>\n",
              "            <td>2016-02-02</td>\n",
              "            <td>033XX W 66TH ST</td>\n",
              "            <td>820</td>\n",
              "            <td>THEFT</td>\n",
              "            <td>$500 AND UNDER</td>\n",
              "            <td>ALLEY</td>\n",
              "            <td>FALSE</td>\n",
              "            <td>FALSE</td>\n",
              "            <td>831</td>\n",
              "            <td>8</td>\n",
              "            <td>15</td>\n",
              "            <td>66</td>\n",
              "            <td>6</td>\n",
              "            <td>1155240</td>\n",
              "            <td>1860661</td>\n",
              "            <td>2016</td>\n",
              "            <td>41.77345530</td>\n",
              "            <td>-87.70648047</td>\n",
              "            <td>(41.773455295, -87.706480471)</td>\n",
              "        </tr>\n",
              "    </tbody>\n",
              "</table>"
            ],
            "text/plain": [
              "[(3512276, 'HK587712', datetime.date(2004, 8, 28), '047XX S KEDZIE AVE', '890', 'THEFT', 'FROM BUILDING', 'SMALL RETAIL STORE', 'FALSE', 'FALSE', 911, 9, 14, 58, '6', 1155838, 1873050, 2004, Decimal('41.80744050'), Decimal('-87.70395585'), '(41.8074405, -87.703955849)'),\n",
              " (3406613, 'HK456306', datetime.date(2004, 6, 26), '009XX N CENTRAL PARK AVE', '820', 'THEFT', '$500 AND UNDER', 'OTHER', 'FALSE', 'FALSE', 1112, 11, 27, 23, '6', 1152206, 1906127, 2004, Decimal('41.89827996'), Decimal('-87.71640551'), '(41.898279962, -87.716405505)'),\n",
              " (8002131, 'HT233595', datetime.date(2011, 4, 4), '043XX S WABASH AVE', '820', 'THEFT', '$500 AND UNDER', 'NURSING HOME/RETIREMENT HOME', 'FALSE', 'FALSE', 221, 2, 3, 38, '6', 1177436, 1876313, 2011, Decimal('41.81593313'), Decimal('-87.62464213'), '(41.815933131, -87.624642127)'),\n",
              " (7903289, 'HT133522', datetime.date(2010, 12, 30), '083XX S KINGSTON AVE', '840', 'THEFT', 'FINANCIAL ID THEFT: OVER $300', 'RESIDENCE', 'FALSE', 'FALSE', 423, 4, 7, 46, '6', 1194622, 1850125, 2010, Decimal('41.74366532'), Decimal('-87.56246276'), '(41.743665322, -87.562462756)'),\n",
              " (10402076, 'HZ138551', datetime.date(2016, 2, 2), '033XX W 66TH ST', '820', 'THEFT', '$500 AND UNDER', 'ALLEY', 'FALSE', 'FALSE', 831, 8, 15, 66, '6', 1155240, 1860661, 2016, Decimal('41.77345530'), Decimal('-87.70648047'), '(41.773455295, -87.706480471)')]"
            ]
          },
          "metadata": {
            "tags": []
          },
          "execution_count": 17
        }
      ]
    },
    {
      "cell_type": "markdown",
      "metadata": {
        "id": "ShKDic-ZCG_K"
      },
      "source": [
        "\n",
        "# How does the syntax of a CREATE VIEW statement look?\n",
        "```\n",
        "CREATE VIEW view_name AS\n",
        "SELECT column1, column2, ...\n",
        "FROM table_name\n",
        "WHERE condition;\n",
        "```\n",
        "How does the syntax of a REPLACE VIEW statement look?\n",
        "```\n",
        "CREATE OR REPLACE VIEW view_name AS\n",
        "SELECT column1, column2, ...\n",
        "FROM table_name\n",
        "WHERE condition;\n",
        "```\n",
        "How does the syntax of a DROP VIEW statement look?\n",
        "```\n",
        "DROP VIEW view_name;\n",
        "```\n",
        "\n",
        "\n"
      ]
    },
    {
      "cell_type": "markdown",
      "metadata": {
        "id": "ULHWR2PUCf1h"
      },
      "source": [
        "## Exercise 1: Create a View"
      ]
    },
    {
      "cell_type": "markdown",
      "metadata": {
        "id": "2f6ntqikC_Qz"
      },
      "source": [
        "### PROBLEM-1\n",
        " Let's create a view called EMPSALARY to display salary along with some basic sensitive data of employees from the HR database. To create the EMPSALARY view from the EMPLOYEES table, copy the code below and paste it to the textbox of the Run SQL page. Click Run all."
      ]
    },
    {
      "cell_type": "code",
      "metadata": {
        "id": "NLdj6cp6DcYS",
        "colab": {
          "base_uri": "https://localhost:8080/"
        },
        "outputId": "cff9dba0-bdc8-479b-d7d6-f8a9ea8f9ec3"
      },
      "source": [
        "%%sql \n",
        "CREATE VIEW EMPSALARY AS \n",
        "SELECT EMP_ID, F_NAME, L_NAME, B_DATE, SEX, SALARY\n",
        "FROM EMPLOYEES;"
      ],
      "execution_count": 7,
      "outputs": [
        {
          "output_type": "stream",
          "text": [
            " * ibm_db_sa://xwm95583:***@dashdb-txn-sbox-yp-dal09-14.services.dal.bluemix.net:50000/BLUDB\n",
            "Done.\n"
          ],
          "name": "stdout"
        },
        {
          "output_type": "execute_result",
          "data": {
            "text/plain": [
              "[]"
            ]
          },
          "metadata": {
            "tags": []
          },
          "execution_count": 7
        }
      ]
    },
    {
      "cell_type": "markdown",
      "metadata": {
        "id": "xbog-r2eDO7S"
      },
      "source": [
        "### PROBLEM-2\n",
        "Using SELECT, query the EMPSALARY view to retrieve all the records. Copy the code below and paste it to the textbox of the Run SQL page. "
      ]
    },
    {
      "cell_type": "code",
      "metadata": {
        "colab": {
          "base_uri": "https://localhost:8080/",
          "height": 263
        },
        "id": "t5JzQe-XHBwN",
        "outputId": "698b72f2-c256-47b4-c5a0-6b78ee8a7c89"
      },
      "source": [
        "%sql SELECT * FROM EMPSALARY;"
      ],
      "execution_count": 10,
      "outputs": [
        {
          "output_type": "stream",
          "text": [
            " * ibm_db_sa://xwm95583:***@dashdb-txn-sbox-yp-dal09-14.services.dal.bluemix.net:50000/BLUDB\n",
            "Done.\n"
          ],
          "name": "stdout"
        },
        {
          "output_type": "execute_result",
          "data": {
            "text/html": [
              "<table>\n",
              "    <thead>\n",
              "        <tr>\n",
              "            <th>emp_id</th>\n",
              "            <th>f_name</th>\n",
              "            <th>l_name</th>\n",
              "            <th>b_date</th>\n",
              "            <th>sex</th>\n",
              "            <th>salary</th>\n",
              "        </tr>\n",
              "    </thead>\n",
              "    <tbody>\n",
              "        <tr>\n",
              "            <td>E1002    </td>\n",
              "            <td>Alice</td>\n",
              "            <td>James</td>\n",
              "            <td>1972-07-31</td>\n",
              "            <td>F</td>\n",
              "            <td>80000.00</td>\n",
              "        </tr>\n",
              "        <tr>\n",
              "            <td>E1003    </td>\n",
              "            <td>Steve</td>\n",
              "            <td>Wells</td>\n",
              "            <td>1980-08-10</td>\n",
              "            <td>M</td>\n",
              "            <td>50000.00</td>\n",
              "        </tr>\n",
              "        <tr>\n",
              "            <td>E1004    </td>\n",
              "            <td>Santosh</td>\n",
              "            <td>Kumar</td>\n",
              "            <td>1985-07-20</td>\n",
              "            <td>M</td>\n",
              "            <td>60000.00</td>\n",
              "        </tr>\n",
              "        <tr>\n",
              "            <td>E1005    </td>\n",
              "            <td>Ahmed</td>\n",
              "            <td>Hussain</td>\n",
              "            <td>1981-01-04</td>\n",
              "            <td>M</td>\n",
              "            <td>70000.00</td>\n",
              "        </tr>\n",
              "        <tr>\n",
              "            <td>E1006    </td>\n",
              "            <td>Nancy</td>\n",
              "            <td>Allen</td>\n",
              "            <td>1978-02-06</td>\n",
              "            <td>F</td>\n",
              "            <td>90000.00</td>\n",
              "        </tr>\n",
              "        <tr>\n",
              "            <td>E1007    </td>\n",
              "            <td>Mary</td>\n",
              "            <td>Thomas</td>\n",
              "            <td>1975-05-05</td>\n",
              "            <td>F</td>\n",
              "            <td>65000.00</td>\n",
              "        </tr>\n",
              "        <tr>\n",
              "            <td>E1008    </td>\n",
              "            <td>Bharath</td>\n",
              "            <td>Gupta</td>\n",
              "            <td>1985-05-06</td>\n",
              "            <td>M</td>\n",
              "            <td>65000.00</td>\n",
              "        </tr>\n",
              "        <tr>\n",
              "            <td>E1009    </td>\n",
              "            <td>Andrea</td>\n",
              "            <td>Jones</td>\n",
              "            <td>1990-07-09</td>\n",
              "            <td>F</td>\n",
              "            <td>70000.00</td>\n",
              "        </tr>\n",
              "        <tr>\n",
              "            <td>E1010    </td>\n",
              "            <td>Ann</td>\n",
              "            <td>Jacob</td>\n",
              "            <td>1982-03-30</td>\n",
              "            <td>F</td>\n",
              "            <td>70000.00</td>\n",
              "        </tr>\n",
              "    </tbody>\n",
              "</table>"
            ],
            "text/plain": [
              "[('E1002    ', 'Alice', 'James', datetime.date(1972, 7, 31), 'F', Decimal('80000.00')),\n",
              " ('E1003    ', 'Steve', 'Wells', datetime.date(1980, 8, 10), 'M', Decimal('50000.00')),\n",
              " ('E1004    ', 'Santosh', 'Kumar', datetime.date(1985, 7, 20), 'M', Decimal('60000.00')),\n",
              " ('E1005    ', 'Ahmed', 'Hussain', datetime.date(1981, 1, 4), 'M', Decimal('70000.00')),\n",
              " ('E1006    ', 'Nancy', 'Allen', datetime.date(1978, 2, 6), 'F', Decimal('90000.00')),\n",
              " ('E1007    ', 'Mary', 'Thomas', datetime.date(1975, 5, 5), 'F', Decimal('65000.00')),\n",
              " ('E1008    ', 'Bharath', 'Gupta', datetime.date(1985, 5, 6), 'M', Decimal('65000.00')),\n",
              " ('E1009    ', 'Andrea', 'Jones', datetime.date(1990, 7, 9), 'F', Decimal('70000.00')),\n",
              " ('E1010    ', 'Ann', 'Jacob', datetime.date(1982, 3, 30), 'F', Decimal('70000.00'))]"
            ]
          },
          "metadata": {
            "tags": []
          },
          "execution_count": 10
        }
      ]
    },
    {
      "cell_type": "markdown",
      "metadata": {
        "id": "necNfq6jDcnC"
      },
      "source": [
        "## Exercise 2: Update a View"
      ]
    },
    {
      "cell_type": "markdown",
      "metadata": {
        "id": "pYIDTIYGDjL6"
      },
      "source": [
        "### PROBLEM-1\n",
        "It now seems that the EMPSALARY view we created in exercise 1 doesn't contain enough salary information, such as max/min salary and the job title of the employees. Let's update the EMPSALARY view:\n",
        "\n",
        "* combining two tables EMPLOYEES and JOBS so that we can display our desired information from the HR database.\n",
        "* including the columns JOB_TITLE, MIN_SALARY, MAX_SALARY of the JOBS table as well as excluding the SALARY column of the EMPLOYEES table."
      ]
    },
    {
      "cell_type": "code",
      "metadata": {
        "id": "heKB8ALUDzsZ",
        "colab": {
          "base_uri": "https://localhost:8080/"
        },
        "outputId": "d18b954b-ddf0-4db3-c17a-831de16e176a"
      },
      "source": [
        "%%sql\n",
        "CREATE OR REPLACE VIEW EMPSALARY  AS \n",
        "SELECT EMP_ID, F_NAME, L_NAME, B_DATE, SEX, JOB_TITLE, MIN_SALARY, MAX_SALARY\n",
        "FROM EMPLOYEES, JOBS\n",
        "WHERE EMPLOYEES.JOB_ID = JOBS.JOB_IDENT;"
      ],
      "execution_count": 12,
      "outputs": [
        {
          "output_type": "stream",
          "text": [
            " * ibm_db_sa://xwm95583:***@dashdb-txn-sbox-yp-dal09-14.services.dal.bluemix.net:50000/BLUDB\n",
            "Done.\n"
          ],
          "name": "stdout"
        },
        {
          "output_type": "execute_result",
          "data": {
            "text/plain": [
              "[]"
            ]
          },
          "metadata": {
            "tags": []
          },
          "execution_count": 12
        }
      ]
    },
    {
      "cell_type": "markdown",
      "metadata": {
        "id": "iRWcSzlOD0Ox"
      },
      "source": [
        "### PROBLEM-2\n",
        "Using SELECT, query the updated EMPSALARY view to retrieve all the records."
      ]
    },
    {
      "cell_type": "code",
      "metadata": {
        "id": "uXCc_DQBD-lq",
        "colab": {
          "base_uri": "https://localhost:8080/",
          "height": 263
        },
        "outputId": "c993a83e-a12e-45ee-be18-3f6fb849a2b3"
      },
      "source": [
        "%sql SELECT * FROM EMPSALARY;"
      ],
      "execution_count": 13,
      "outputs": [
        {
          "output_type": "stream",
          "text": [
            " * ibm_db_sa://xwm95583:***@dashdb-txn-sbox-yp-dal09-14.services.dal.bluemix.net:50000/BLUDB\n",
            "Done.\n"
          ],
          "name": "stdout"
        },
        {
          "output_type": "execute_result",
          "data": {
            "text/html": [
              "<table>\n",
              "    <thead>\n",
              "        <tr>\n",
              "            <th>emp_id</th>\n",
              "            <th>f_name</th>\n",
              "            <th>l_name</th>\n",
              "            <th>b_date</th>\n",
              "            <th>sex</th>\n",
              "            <th>job_title</th>\n",
              "            <th>min_salary</th>\n",
              "            <th>max_salary</th>\n",
              "        </tr>\n",
              "    </thead>\n",
              "    <tbody>\n",
              "        <tr>\n",
              "            <td>E1002    </td>\n",
              "            <td>Alice</td>\n",
              "            <td>James</td>\n",
              "            <td>1972-07-31</td>\n",
              "            <td>F</td>\n",
              "            <td>Sr.Software Dev</td>\n",
              "            <td>60000.00</td>\n",
              "            <td>80000.00</td>\n",
              "        </tr>\n",
              "        <tr>\n",
              "            <td>E1003    </td>\n",
              "            <td>Steve</td>\n",
              "            <td>Wells</td>\n",
              "            <td>1980-08-10</td>\n",
              "            <td>M</td>\n",
              "            <td>Jr.Software Dev</td>\n",
              "            <td>40000.00</td>\n",
              "            <td>60000.00</td>\n",
              "        </tr>\n",
              "        <tr>\n",
              "            <td>E1004    </td>\n",
              "            <td>Santosh</td>\n",
              "            <td>Kumar</td>\n",
              "            <td>1985-07-20</td>\n",
              "            <td>M</td>\n",
              "            <td>Jr.Software Dev</td>\n",
              "            <td>40000.00</td>\n",
              "            <td>60000.00</td>\n",
              "        </tr>\n",
              "        <tr>\n",
              "            <td>E1005    </td>\n",
              "            <td>Ahmed</td>\n",
              "            <td>Hussain</td>\n",
              "            <td>1981-01-04</td>\n",
              "            <td>M</td>\n",
              "            <td>Jr. Architect</td>\n",
              "            <td>50000.00</td>\n",
              "            <td>70000.00</td>\n",
              "        </tr>\n",
              "        <tr>\n",
              "            <td>E1006    </td>\n",
              "            <td>Nancy</td>\n",
              "            <td>Allen</td>\n",
              "            <td>1978-02-06</td>\n",
              "            <td>F</td>\n",
              "            <td>Lead Architect</td>\n",
              "            <td>70000.00</td>\n",
              "            <td>100000.00</td>\n",
              "        </tr>\n",
              "        <tr>\n",
              "            <td>E1007    </td>\n",
              "            <td>Mary</td>\n",
              "            <td>Thomas</td>\n",
              "            <td>1975-05-05</td>\n",
              "            <td>F</td>\n",
              "            <td>Jr. Designer</td>\n",
              "            <td>60000.00</td>\n",
              "            <td>70000.00</td>\n",
              "        </tr>\n",
              "        <tr>\n",
              "            <td>E1008    </td>\n",
              "            <td>Bharath</td>\n",
              "            <td>Gupta</td>\n",
              "            <td>1985-05-06</td>\n",
              "            <td>M</td>\n",
              "            <td>Jr. Designer</td>\n",
              "            <td>60000.00</td>\n",
              "            <td>70000.00</td>\n",
              "        </tr>\n",
              "        <tr>\n",
              "            <td>E1009    </td>\n",
              "            <td>Andrea</td>\n",
              "            <td>Jones</td>\n",
              "            <td>1990-07-09</td>\n",
              "            <td>F</td>\n",
              "            <td>Sr. Designer</td>\n",
              "            <td>70000.00</td>\n",
              "            <td>90000.00</td>\n",
              "        </tr>\n",
              "        <tr>\n",
              "            <td>E1010    </td>\n",
              "            <td>Ann</td>\n",
              "            <td>Jacob</td>\n",
              "            <td>1982-03-30</td>\n",
              "            <td>F</td>\n",
              "            <td>Sr. Designer</td>\n",
              "            <td>70000.00</td>\n",
              "            <td>90000.00</td>\n",
              "        </tr>\n",
              "    </tbody>\n",
              "</table>"
            ],
            "text/plain": [
              "[('E1002    ', 'Alice', 'James', datetime.date(1972, 7, 31), 'F', 'Sr.Software Dev', Decimal('60000.00'), Decimal('80000.00')),\n",
              " ('E1003    ', 'Steve', 'Wells', datetime.date(1980, 8, 10), 'M', 'Jr.Software Dev', Decimal('40000.00'), Decimal('60000.00')),\n",
              " ('E1004    ', 'Santosh', 'Kumar', datetime.date(1985, 7, 20), 'M', 'Jr.Software Dev', Decimal('40000.00'), Decimal('60000.00')),\n",
              " ('E1005    ', 'Ahmed', 'Hussain', datetime.date(1981, 1, 4), 'M', 'Jr. Architect', Decimal('50000.00'), Decimal('70000.00')),\n",
              " ('E1006    ', 'Nancy', 'Allen', datetime.date(1978, 2, 6), 'F', 'Lead Architect', Decimal('70000.00'), Decimal('100000.00')),\n",
              " ('E1007    ', 'Mary', 'Thomas', datetime.date(1975, 5, 5), 'F', 'Jr. Designer', Decimal('60000.00'), Decimal('70000.00')),\n",
              " ('E1008    ', 'Bharath', 'Gupta', datetime.date(1985, 5, 6), 'M', 'Jr. Designer', Decimal('60000.00'), Decimal('70000.00')),\n",
              " ('E1009    ', 'Andrea', 'Jones', datetime.date(1990, 7, 9), 'F', 'Sr. Designer', Decimal('70000.00'), Decimal('90000.00')),\n",
              " ('E1010    ', 'Ann', 'Jacob', datetime.date(1982, 3, 30), 'F', 'Sr. Designer', Decimal('70000.00'), Decimal('90000.00'))]"
            ]
          },
          "metadata": {
            "tags": []
          },
          "execution_count": 13
        }
      ]
    },
    {
      "cell_type": "markdown",
      "metadata": {
        "id": "L5AQhiTRD_Lc"
      },
      "source": [
        "## Exercise 3: Drop a View"
      ]
    },
    {
      "cell_type": "markdown",
      "metadata": {
        "id": "ncafBc8BECPy"
      },
      "source": [
        "PROBLEM-1\n",
        "Let's delete the created EMPSALARY view. Copy the code below and paste it to the textbox of the Run SQL page."
      ]
    },
    {
      "cell_type": "code",
      "metadata": {
        "id": "Wt70UaFuEMN4",
        "colab": {
          "base_uri": "https://localhost:8080/"
        },
        "outputId": "be21b0d2-bf3a-46ea-ee18-bae9fa508dd8"
      },
      "source": [
        "%sql DROP VIEW EMPSALARY;"
      ],
      "execution_count": 14,
      "outputs": [
        {
          "output_type": "stream",
          "text": [
            " * ibm_db_sa://xwm95583:***@dashdb-txn-sbox-yp-dal09-14.services.dal.bluemix.net:50000/BLUDB\n",
            "Done.\n"
          ],
          "name": "stdout"
        },
        {
          "output_type": "execute_result",
          "data": {
            "text/plain": [
              "[]"
            ]
          },
          "metadata": {
            "tags": []
          },
          "execution_count": 14
        }
      ]
    },
    {
      "cell_type": "markdown",
      "metadata": {
        "id": "fhWFtEhQEMmQ"
      },
      "source": [
        "### PROBLEM-2\n",
        "Using SELECT, you can verify whether the EMPSALARY view has been deleted or not. Copy the code below and paste it to the textbox of the Run SQL page. "
      ]
    },
    {
      "cell_type": "code",
      "metadata": {
        "id": "VhH116UsEViC",
        "colab": {
          "base_uri": "https://localhost:8080/"
        },
        "outputId": "7f956e4d-cda9-45af-fe7c-bd521e2b8718"
      },
      "source": [
        "%sql SELECT * FROM EMPSALARY;"
      ],
      "execution_count": 16,
      "outputs": [
        {
          "output_type": "stream",
          "text": [
            " * ibm_db_sa://xwm95583:***@dashdb-txn-sbox-yp-dal09-14.services.dal.bluemix.net:50000/BLUDB\n",
            "(ibm_db_dbi.ProgrammingError) ibm_db_dbi::ProgrammingError: SQLNumResultCols failed: [IBM][CLI Driver][DB2/LINUXX8664] SQL0204N  \"XWM95583.EMPSALARY\" is an undefined name.  SQLSTATE=42704 SQLCODE=-204\n",
            "[SQL: SELECT * FROM EMPSALARY;]\n",
            "(Background on this error at: http://sqlalche.me/e/f405)\n"
          ],
          "name": "stdout"
        }
      ]
    },
    {
      "cell_type": "markdown",
      "metadata": {
        "id": "XdhtB2vXI138"
      },
      "source": [
        "\n",
        "\n",
        "---\n",
        "\n"
      ]
    }
  ]
}