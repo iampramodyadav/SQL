{
  "nbformat": 4,
  "nbformat_minor": 0,
  "metadata": {
    "colab": {
      "name": "SQL-Hands-on-Lab-(IBM-Coursera).ipynb",
      "provenance": [],
      "toc_visible": true,
      "authorship_tag": "ABX9TyMiyQwZ8idYYUS7PBjXrcaU",
      "include_colab_link": true
    },
    "kernelspec": {
      "name": "python3",
      "display_name": "Python 3"
    },
    "language_info": {
      "name": "python"
    }
  },
  "cells": [
    {
      "cell_type": "markdown",
      "metadata": {
        "id": "view-in-github",
        "colab_type": "text"
      },
      "source": [
        "<a href=\"https://colab.research.google.com/github/iampramodyadav/SQL/blob/main/SQL_Hands_on_Lab_(IBM_Coursera).ipynb\" target=\"_parent\"><img src=\"https://colab.research.google.com/assets/colab-badge.svg\" alt=\"Open In Colab\"/></a>"
      ]
    },
    {
      "cell_type": "markdown",
      "metadata": {
        "id": "zgxly19F7_1B"
      },
      "source": [
        "# Databases and SQL for Data Science with Python: IBM (Coursera)\n",
        "\n",
        "\n",
        "---\n",
        "\n"
      ]
    },
    {
      "cell_type": "markdown",
      "metadata": {
        "id": "rEI73v-s8PHD"
      },
      "source": [
        "# Loading Databse\n",
        "\n",
        " Source: [Film Locations in San Francisco]('https://data.sfgov.org/Culture-and-Recreation/Film-Locations-in-San-Francisco/yitu-d5am?utm_medium=Exinfluencer&utm_source=Exinfluencer&utm_content=000026UJ&utm_term=10006555&utm_id=NA-SkillsNetwork-wwwcourseraorg-SkillsNetworkCoursesIBMDeveloperSkillsNetworkDB0201ENSkillsNetwork20127838-2021-01-')"
      ]
    },
    {
      "cell_type": "markdown",
      "metadata": {
        "id": "iXsYXFrd9XwW"
      },
      "source": [
        "## Loading CSV file"
      ]
    },
    {
      "cell_type": "code",
      "metadata": {
        "colab": {
          "base_uri": "https://localhost:8080/"
        },
        "id": "VtAltU141ZRn",
        "outputId": "f2dd197f-fdb1-4dfd-c4b4-d0e7e2f15a29"
      },
      "source": [
        "!wget --header=\"Host: data.sfgov.org\" --header=\"User-Agent: Mozilla/5.0 (Windows NT 10.0; Win64; x64) AppleWebKit/537.36 (KHTML, like Gecko) Chrome/91.0.4472.101 Safari/537.36 Edg/91.0.864.48\" --header=\"Accept: text/html,application/xhtml+xml,application/xml;q=0.9,image/webp,image/apng,*/*;q=0.8,application/signed-exchange;v=b3;q=0.9\" --header=\"Accept-Language: en-US,en;q=0.9\" --header=\"Referer: https://data.sfgov.org/Culture-and-Recreation/Film-Locations-in-San-Francisco/yitu-d5am?utm_medium=Exinfluencer&utm_source=Exinfluencer&utm_content=000026UJ&utm_term=10006555&utm_id=NA-SkillsNetwork-wwwcourseraorg-SkillsNetworkCoursesIBMDeveloperSkillsNetworkDB0201ENSkillsNetwork20127838-2021-01-01\" --header=\"Cookie: _ga=GA1.2.437002516.1624166695; _gid=GA1.2.1937309468.1624166695; _ga=GA1.3.437002516.1624166695; _gid=GA1.3.1937309468.1624166695; _gat_socrata=1; _gat_UA-53975719-1=1; socrata-csrf-token=oHVA4osvPCIR0lUsyIGTHqjVL+k6Y9xjBunNX0dvv6UUsGUAo4gT++fl5cMOcGolv/lR9lbBNRl+/rCCIq/62A==; _frontend_session=KzgxNE1HWDh2emt2MHhaOVdHT1FMU0lxc1FSM3VRUHhKYko1Vy85M0NUYmtpcll1UjVjQkxyMnFFTzVUYjJ2dEFIcXVFVUtWcmtLMHJQQWhKeTk3RWJ0eDgxeElDLzZiYUxQSU5yY0tGL21pa3QvbnhwRDZ4aU9aVXZXdEtUaVNEeEREY1NCcGFLYVgwUUlEYThwVlZBPT0tLVVFZ1k0c3BNRXlWV1d0ZjI3ZnhNeVE9PQ%3D%3D--cf05ca24f26ca84968ceda4b0038b95286dc5675\" --header=\"Connection: keep-alive\" \"https://data.sfgov.org/api/views/yitu-d5am/rows.csv?accessType=DOWNLOAD\" -c -O 'Film_Locations_in_San_Francisco.csv'"
      ],
      "execution_count": 1,
      "outputs": [
        {
          "output_type": "stream",
          "text": [
            "--2021-06-20 09:59:49--  https://data.sfgov.org/api/views/yitu-d5am/rows.csv?accessType=DOWNLOAD\n",
            "Resolving data.sfgov.org (data.sfgov.org)... 52.206.140.199, 52.206.68.26, 52.206.140.205\n",
            "Connecting to data.sfgov.org (data.sfgov.org)|52.206.140.199|:443... connected.\n",
            "HTTP request sent, awaiting response... 200 OK\n",
            "Length: unspecified [text/csv]\n",
            "Saving to: ‘Film_Locations_in_San_Francisco.csv’\n",
            "\n",
            "Film_Locations_in_S     [   <=>              ] 672.28K   740KB/s    in 0.9s    \n",
            "\n",
            "2021-06-20 09:59:51 (740 KB/s) - ‘Film_Locations_in_San_Francisco.csv’ saved [688414]\n",
            "\n"
          ],
          "name": "stdout"
        }
      ]
    },
    {
      "cell_type": "markdown",
      "metadata": {
        "id": "7QsEG7TT9fM2"
      },
      "source": [
        "## Importing Library"
      ]
    },
    {
      "cell_type": "code",
      "metadata": {
        "id": "G24lmRb23N6m"
      },
      "source": [
        "import pandas as pd\n",
        "\n",
        "from sqlalchemy import create_engine"
      ],
      "execution_count": 3,
      "outputs": []
    },
    {
      "cell_type": "code",
      "metadata": {
        "id": "WH-I8n1X58dn"
      },
      "source": [
        "FilmLocations=pd.read_csv('Film_Locations_in_San_Francisco.csv')"
      ],
      "execution_count": 6,
      "outputs": []
    },
    {
      "cell_type": "code",
      "metadata": {
        "colab": {
          "base_uri": "https://localhost:8080/",
          "height": 261
        },
        "id": "ba5MoFKk6gV3",
        "outputId": "132dc7a2-193d-447d-da76-f62e5e13edcf"
      },
      "source": [
        "FilmLocations.head(3)"
      ],
      "execution_count": 11,
      "outputs": [
        {
          "output_type": "execute_result",
          "data": {
            "text/html": [
              "<div>\n",
              "<style scoped>\n",
              "    .dataframe tbody tr th:only-of-type {\n",
              "        vertical-align: middle;\n",
              "    }\n",
              "\n",
              "    .dataframe tbody tr th {\n",
              "        vertical-align: top;\n",
              "    }\n",
              "\n",
              "    .dataframe thead th {\n",
              "        text-align: right;\n",
              "    }\n",
              "</style>\n",
              "<table border=\"1\" class=\"dataframe\">\n",
              "  <thead>\n",
              "    <tr style=\"text-align: right;\">\n",
              "      <th></th>\n",
              "      <th>Title</th>\n",
              "      <th>Release Year</th>\n",
              "      <th>Locations</th>\n",
              "      <th>Fun Facts</th>\n",
              "      <th>Production Company</th>\n",
              "      <th>Distributor</th>\n",
              "      <th>Director</th>\n",
              "      <th>Writer</th>\n",
              "      <th>Actor 1</th>\n",
              "      <th>Actor 2</th>\n",
              "      <th>Actor 3</th>\n",
              "    </tr>\n",
              "  </thead>\n",
              "  <tbody>\n",
              "    <tr>\n",
              "      <th>0</th>\n",
              "      <td>180</td>\n",
              "      <td>2011</td>\n",
              "      <td>Epic Roasthouse (399 Embarcadero)</td>\n",
              "      <td>NaN</td>\n",
              "      <td>SPI Cinemas</td>\n",
              "      <td>NaN</td>\n",
              "      <td>Jayendra</td>\n",
              "      <td>Umarji Anuradha, Jayendra, Aarthi Sriram, &amp; Suba</td>\n",
              "      <td>Siddarth</td>\n",
              "      <td>Nithya Menon</td>\n",
              "      <td>Priya Anand</td>\n",
              "    </tr>\n",
              "    <tr>\n",
              "      <th>1</th>\n",
              "      <td>180</td>\n",
              "      <td>2011</td>\n",
              "      <td>Mason &amp; California Streets (Nob Hill)</td>\n",
              "      <td>NaN</td>\n",
              "      <td>SPI Cinemas</td>\n",
              "      <td>NaN</td>\n",
              "      <td>Jayendra</td>\n",
              "      <td>Umarji Anuradha, Jayendra, Aarthi Sriram, &amp; Suba</td>\n",
              "      <td>Siddarth</td>\n",
              "      <td>Nithya Menon</td>\n",
              "      <td>Priya Anand</td>\n",
              "    </tr>\n",
              "    <tr>\n",
              "      <th>2</th>\n",
              "      <td>180</td>\n",
              "      <td>2011</td>\n",
              "      <td>Justin Herman Plaza</td>\n",
              "      <td>NaN</td>\n",
              "      <td>SPI Cinemas</td>\n",
              "      <td>NaN</td>\n",
              "      <td>Jayendra</td>\n",
              "      <td>Umarji Anuradha, Jayendra, Aarthi Sriram, &amp; Suba</td>\n",
              "      <td>Siddarth</td>\n",
              "      <td>Nithya Menon</td>\n",
              "      <td>Priya Anand</td>\n",
              "    </tr>\n",
              "  </tbody>\n",
              "</table>\n",
              "</div>"
            ],
            "text/plain": [
              "  Title  Release Year  ...       Actor 2      Actor 3\n",
              "0   180          2011  ...  Nithya Menon  Priya Anand\n",
              "1   180          2011  ...  Nithya Menon  Priya Anand\n",
              "2   180          2011  ...  Nithya Menon  Priya Anand\n",
              "\n",
              "[3 rows x 11 columns]"
            ]
          },
          "metadata": {
            "tags": []
          },
          "execution_count": 11
        }
      ]
    },
    {
      "cell_type": "code",
      "metadata": {
        "colab": {
          "base_uri": "https://localhost:8080/"
        },
        "id": "GTi6zZ5v_TIy",
        "outputId": "d7f1b952-5315-47ff-a124-15100568dba6"
      },
      "source": [
        "FilmLocations.info()"
      ],
      "execution_count": 16,
      "outputs": [
        {
          "output_type": "stream",
          "text": [
            "<class 'pandas.core.frame.DataFrame'>\n",
            "RangeIndex: 3414 entries, 0 to 3413\n",
            "Data columns (total 11 columns):\n",
            " #   Column              Non-Null Count  Dtype \n",
            "---  ------              --------------  ----- \n",
            " 0   Title               3414 non-null   object\n",
            " 1   Release Year        3414 non-null   int64 \n",
            " 2   Locations           3306 non-null   object\n",
            " 3   Fun Facts           898 non-null    object\n",
            " 4   Production Company  3410 non-null   object\n",
            " 5   Distributor         3212 non-null   object\n",
            " 6   Director            3414 non-null   object\n",
            " 7   Writer              3404 non-null   object\n",
            " 8   Actor 1             3406 non-null   object\n",
            " 9   Actor 2             3228 non-null   object\n",
            " 10  Actor 3             2470 non-null   object\n",
            "dtypes: int64(1), object(10)\n",
            "memory usage: 293.5+ KB\n"
          ],
          "name": "stdout"
        }
      ]
    },
    {
      "cell_type": "markdown",
      "metadata": {
        "id": "4HzwfiVrDX7v"
      },
      "source": [
        "## Renaming Culumn without space"
      ]
    },
    {
      "cell_type": "code",
      "metadata": {
        "id": "676muSaUB0VZ"
      },
      "source": [
        "FilmLocations=FilmLocations.rename(columns={\"Release Year\": \"ReleaseYear\",\"Fun Facts\":\"FunFacts\", \"Production Company\": \"ProductionCompany\",\"Actor 1\":\"Actor1\",\"Actor 2\":\"Actor2\",\"Actor 3\":\"Actor3\"})"
      ],
      "execution_count": 27,
      "outputs": []
    },
    {
      "cell_type": "code",
      "metadata": {
        "colab": {
          "base_uri": "https://localhost:8080/"
        },
        "id": "E1MaMwH2C4rl",
        "outputId": "097120bf-3ef6-4e99-f42a-c230923f3c00"
      },
      "source": [
        "FilmLocations.info()"
      ],
      "execution_count": 28,
      "outputs": [
        {
          "output_type": "stream",
          "text": [
            "<class 'pandas.core.frame.DataFrame'>\n",
            "RangeIndex: 3414 entries, 0 to 3413\n",
            "Data columns (total 11 columns):\n",
            " #   Column             Non-Null Count  Dtype \n",
            "---  ------             --------------  ----- \n",
            " 0   Title              3414 non-null   object\n",
            " 1   ReleaseYear        3414 non-null   int64 \n",
            " 2   Locations          3306 non-null   object\n",
            " 3   FunFacts           898 non-null    object\n",
            " 4   ProductionCompany  3410 non-null   object\n",
            " 5   Distributor        3212 non-null   object\n",
            " 6   Director           3414 non-null   object\n",
            " 7   Writer             3404 non-null   object\n",
            " 8   Actor1             3406 non-null   object\n",
            " 9   Actor2             3228 non-null   object\n",
            " 10  Actor3             2470 non-null   object\n",
            "dtypes: int64(1), object(10)\n",
            "memory usage: 293.5+ KB\n"
          ],
          "name": "stdout"
        }
      ]
    },
    {
      "cell_type": "markdown",
      "metadata": {
        "id": "rg8aOJH29o7O"
      },
      "source": [
        "## Making SQL connection (from CSV)"
      ]
    },
    {
      "cell_type": "code",
      "metadata": {
        "id": "zgf-ObkC4Ri3"
      },
      "source": [
        "temp_db = create_engine('sqlite:///:memory:')"
      ],
      "execution_count": 29,
      "outputs": []
    },
    {
      "cell_type": "code",
      "metadata": {
        "id": "fCkEX-UH6mv8"
      },
      "source": [
        "FilmLocations.to_sql(name='FilmLocations',con=temp_db)"
      ],
      "execution_count": 30,
      "outputs": []
    },
    {
      "cell_type": "code",
      "metadata": {
        "colab": {
          "base_uri": "https://localhost:8080/",
          "height": 1000
        },
        "id": "jjcrssKJ7BIb",
        "outputId": "1ce2d856-7627-40f5-b9c9-0f423f3e5fc2"
      },
      "source": [
        "pd.read_sql(sql='FilmLocations',con=temp_db)"
      ],
      "execution_count": 31,
      "outputs": [
        {
          "output_type": "execute_result",
          "data": {
            "text/html": [
              "<div>\n",
              "<style scoped>\n",
              "    .dataframe tbody tr th:only-of-type {\n",
              "        vertical-align: middle;\n",
              "    }\n",
              "\n",
              "    .dataframe tbody tr th {\n",
              "        vertical-align: top;\n",
              "    }\n",
              "\n",
              "    .dataframe thead th {\n",
              "        text-align: right;\n",
              "    }\n",
              "</style>\n",
              "<table border=\"1\" class=\"dataframe\">\n",
              "  <thead>\n",
              "    <tr style=\"text-align: right;\">\n",
              "      <th></th>\n",
              "      <th>index</th>\n",
              "      <th>Title</th>\n",
              "      <th>ReleaseYear</th>\n",
              "      <th>Locations</th>\n",
              "      <th>FunFacts</th>\n",
              "      <th>ProductionCompany</th>\n",
              "      <th>Distributor</th>\n",
              "      <th>Director</th>\n",
              "      <th>Writer</th>\n",
              "      <th>Actor1</th>\n",
              "      <th>Actor2</th>\n",
              "      <th>Actor3</th>\n",
              "    </tr>\n",
              "  </thead>\n",
              "  <tbody>\n",
              "    <tr>\n",
              "      <th>0</th>\n",
              "      <td>0</td>\n",
              "      <td>180</td>\n",
              "      <td>2011</td>\n",
              "      <td>Epic Roasthouse (399 Embarcadero)</td>\n",
              "      <td>None</td>\n",
              "      <td>SPI Cinemas</td>\n",
              "      <td>None</td>\n",
              "      <td>Jayendra</td>\n",
              "      <td>Umarji Anuradha, Jayendra, Aarthi Sriram, &amp; Suba</td>\n",
              "      <td>Siddarth</td>\n",
              "      <td>Nithya Menon</td>\n",
              "      <td>Priya Anand</td>\n",
              "    </tr>\n",
              "    <tr>\n",
              "      <th>1</th>\n",
              "      <td>1</td>\n",
              "      <td>180</td>\n",
              "      <td>2011</td>\n",
              "      <td>Mason &amp; California Streets (Nob Hill)</td>\n",
              "      <td>None</td>\n",
              "      <td>SPI Cinemas</td>\n",
              "      <td>None</td>\n",
              "      <td>Jayendra</td>\n",
              "      <td>Umarji Anuradha, Jayendra, Aarthi Sriram, &amp; Suba</td>\n",
              "      <td>Siddarth</td>\n",
              "      <td>Nithya Menon</td>\n",
              "      <td>Priya Anand</td>\n",
              "    </tr>\n",
              "    <tr>\n",
              "      <th>2</th>\n",
              "      <td>2</td>\n",
              "      <td>180</td>\n",
              "      <td>2011</td>\n",
              "      <td>Justin Herman Plaza</td>\n",
              "      <td>None</td>\n",
              "      <td>SPI Cinemas</td>\n",
              "      <td>None</td>\n",
              "      <td>Jayendra</td>\n",
              "      <td>Umarji Anuradha, Jayendra, Aarthi Sriram, &amp; Suba</td>\n",
              "      <td>Siddarth</td>\n",
              "      <td>Nithya Menon</td>\n",
              "      <td>Priya Anand</td>\n",
              "    </tr>\n",
              "    <tr>\n",
              "      <th>3</th>\n",
              "      <td>3</td>\n",
              "      <td>180</td>\n",
              "      <td>2011</td>\n",
              "      <td>200 block Market Street</td>\n",
              "      <td>None</td>\n",
              "      <td>SPI Cinemas</td>\n",
              "      <td>None</td>\n",
              "      <td>Jayendra</td>\n",
              "      <td>Umarji Anuradha, Jayendra, Aarthi Sriram, &amp; Suba</td>\n",
              "      <td>Siddarth</td>\n",
              "      <td>Nithya Menon</td>\n",
              "      <td>Priya Anand</td>\n",
              "    </tr>\n",
              "    <tr>\n",
              "      <th>4</th>\n",
              "      <td>4</td>\n",
              "      <td>180</td>\n",
              "      <td>2011</td>\n",
              "      <td>City Hall</td>\n",
              "      <td>None</td>\n",
              "      <td>SPI Cinemas</td>\n",
              "      <td>None</td>\n",
              "      <td>Jayendra</td>\n",
              "      <td>Umarji Anuradha, Jayendra, Aarthi Sriram, &amp; Suba</td>\n",
              "      <td>Siddarth</td>\n",
              "      <td>Nithya Menon</td>\n",
              "      <td>Priya Anand</td>\n",
              "    </tr>\n",
              "    <tr>\n",
              "      <th>...</th>\n",
              "      <td>...</td>\n",
              "      <td>...</td>\n",
              "      <td>...</td>\n",
              "      <td>...</td>\n",
              "      <td>...</td>\n",
              "      <td>...</td>\n",
              "      <td>...</td>\n",
              "      <td>...</td>\n",
              "      <td>...</td>\n",
              "      <td>...</td>\n",
              "      <td>...</td>\n",
              "      <td>...</td>\n",
              "    </tr>\n",
              "    <tr>\n",
              "      <th>3409</th>\n",
              "      <td>3409</td>\n",
              "      <td>Quicksilver</td>\n",
              "      <td>1986</td>\n",
              "      <td>Pacific Stock Exchange</td>\n",
              "      <td>None</td>\n",
              "      <td>Columbia Pictures Corporation</td>\n",
              "      <td>Columbia Pictures</td>\n",
              "      <td>Thomas Michael Donnelly</td>\n",
              "      <td>Thomas Michael Donnelly</td>\n",
              "      <td>Kevin Bacon</td>\n",
              "      <td>Jami Gertz</td>\n",
              "      <td>Paul Rodriguez</td>\n",
              "    </tr>\n",
              "    <tr>\n",
              "      <th>3410</th>\n",
              "      <td>3410</td>\n",
              "      <td>Murder in the First, Season 1</td>\n",
              "      <td>2014</td>\n",
              "      <td>50 California Street</td>\n",
              "      <td>None</td>\n",
              "      <td>Turner North Center Productions</td>\n",
              "      <td>Turner Network Television (TNT)</td>\n",
              "      <td>Steven Bochcho</td>\n",
              "      <td>Eric Lodal</td>\n",
              "      <td>Taye Diggs</td>\n",
              "      <td>Kathleen Robertson</td>\n",
              "      <td>Ian Anthony Dale</td>\n",
              "    </tr>\n",
              "    <tr>\n",
              "      <th>3411</th>\n",
              "      <td>3411</td>\n",
              "      <td>Murder in the First, Season 3</td>\n",
              "      <td>2016</td>\n",
              "      <td>Linden Alley between Octavia and Gough Streets</td>\n",
              "      <td>None</td>\n",
              "      <td>Turner North Center Productions</td>\n",
              "      <td>Turner Network Television (TNT)</td>\n",
              "      <td>Steven Bochcho</td>\n",
              "      <td>Eric Lodal</td>\n",
              "      <td>Taye Diggs</td>\n",
              "      <td>Kathleen Robertson</td>\n",
              "      <td>Ian Anthony Dale</td>\n",
              "    </tr>\n",
              "    <tr>\n",
              "      <th>3412</th>\n",
              "      <td>3412</td>\n",
              "      <td>George of the Jungle</td>\n",
              "      <td>1997</td>\n",
              "      <td>755 Vallejo Street</td>\n",
              "      <td>None</td>\n",
              "      <td>Walt Disney Pictures</td>\n",
              "      <td>Buena Vista Pictures</td>\n",
              "      <td>Sam Weisman</td>\n",
              "      <td>Jay Ward</td>\n",
              "      <td>Brendan Fraser</td>\n",
              "      <td>Leslie Mann</td>\n",
              "      <td>None</td>\n",
              "    </tr>\n",
              "    <tr>\n",
              "      <th>3413</th>\n",
              "      <td>3413</td>\n",
              "      <td>Alcatraz</td>\n",
              "      <td>2012</td>\n",
              "      <td>Chestnut St. from Larkin to Columbus</td>\n",
              "      <td>None</td>\n",
              "      <td>Bonanza Productions Inc.</td>\n",
              "      <td>Warner Bros. Television</td>\n",
              "      <td>J.J. Abrams</td>\n",
              "      <td>Steven Lilien</td>\n",
              "      <td>Sarah Jones</td>\n",
              "      <td>Jorge Garcia</td>\n",
              "      <td>None</td>\n",
              "    </tr>\n",
              "  </tbody>\n",
              "</table>\n",
              "<p>3414 rows × 12 columns</p>\n",
              "</div>"
            ],
            "text/plain": [
              "      index  ...            Actor3\n",
              "0         0  ...       Priya Anand\n",
              "1         1  ...       Priya Anand\n",
              "2         2  ...       Priya Anand\n",
              "3         3  ...       Priya Anand\n",
              "4         4  ...       Priya Anand\n",
              "...     ...  ...               ...\n",
              "3409   3409  ...    Paul Rodriguez\n",
              "3410   3410  ...  Ian Anthony Dale\n",
              "3411   3411  ...  Ian Anthony Dale\n",
              "3412   3412  ...              None\n",
              "3413   3413  ...              None\n",
              "\n",
              "[3414 rows x 12 columns]"
            ]
          },
          "metadata": {
            "tags": []
          },
          "execution_count": 31
        }
      ]
    },
    {
      "cell_type": "markdown",
      "metadata": {
        "id": "hlS1se1B9ODo"
      },
      "source": [
        "\n",
        "\n",
        "---\n",
        "\n"
      ]
    },
    {
      "cell_type": "markdown",
      "metadata": {
        "id": "8WUtNAjP75nX"
      },
      "source": [
        "# Hands-on Lab: Simple SELECT Statements"
      ]
    },
    {
      "cell_type": "code",
      "metadata": {
        "colab": {
          "base_uri": "https://localhost:8080/",
          "height": 1000
        },
        "id": "h9p1XUwY7Iu3",
        "outputId": "479d5b90-3abf-49e6-e032-5e603ef7f0b4"
      },
      "source": [
        "pd.read_sql_query(sql=\"SELECT * FROM FilmLocations\",con=temp_db)"
      ],
      "execution_count": 32,
      "outputs": [
        {
          "output_type": "execute_result",
          "data": {
            "text/html": [
              "<div>\n",
              "<style scoped>\n",
              "    .dataframe tbody tr th:only-of-type {\n",
              "        vertical-align: middle;\n",
              "    }\n",
              "\n",
              "    .dataframe tbody tr th {\n",
              "        vertical-align: top;\n",
              "    }\n",
              "\n",
              "    .dataframe thead th {\n",
              "        text-align: right;\n",
              "    }\n",
              "</style>\n",
              "<table border=\"1\" class=\"dataframe\">\n",
              "  <thead>\n",
              "    <tr style=\"text-align: right;\">\n",
              "      <th></th>\n",
              "      <th>index</th>\n",
              "      <th>Title</th>\n",
              "      <th>ReleaseYear</th>\n",
              "      <th>Locations</th>\n",
              "      <th>FunFacts</th>\n",
              "      <th>ProductionCompany</th>\n",
              "      <th>Distributor</th>\n",
              "      <th>Director</th>\n",
              "      <th>Writer</th>\n",
              "      <th>Actor1</th>\n",
              "      <th>Actor2</th>\n",
              "      <th>Actor3</th>\n",
              "    </tr>\n",
              "  </thead>\n",
              "  <tbody>\n",
              "    <tr>\n",
              "      <th>0</th>\n",
              "      <td>0</td>\n",
              "      <td>180</td>\n",
              "      <td>2011</td>\n",
              "      <td>Epic Roasthouse (399 Embarcadero)</td>\n",
              "      <td>None</td>\n",
              "      <td>SPI Cinemas</td>\n",
              "      <td>None</td>\n",
              "      <td>Jayendra</td>\n",
              "      <td>Umarji Anuradha, Jayendra, Aarthi Sriram, &amp; Suba</td>\n",
              "      <td>Siddarth</td>\n",
              "      <td>Nithya Menon</td>\n",
              "      <td>Priya Anand</td>\n",
              "    </tr>\n",
              "    <tr>\n",
              "      <th>1</th>\n",
              "      <td>1</td>\n",
              "      <td>180</td>\n",
              "      <td>2011</td>\n",
              "      <td>Mason &amp; California Streets (Nob Hill)</td>\n",
              "      <td>None</td>\n",
              "      <td>SPI Cinemas</td>\n",
              "      <td>None</td>\n",
              "      <td>Jayendra</td>\n",
              "      <td>Umarji Anuradha, Jayendra, Aarthi Sriram, &amp; Suba</td>\n",
              "      <td>Siddarth</td>\n",
              "      <td>Nithya Menon</td>\n",
              "      <td>Priya Anand</td>\n",
              "    </tr>\n",
              "    <tr>\n",
              "      <th>2</th>\n",
              "      <td>2</td>\n",
              "      <td>180</td>\n",
              "      <td>2011</td>\n",
              "      <td>Justin Herman Plaza</td>\n",
              "      <td>None</td>\n",
              "      <td>SPI Cinemas</td>\n",
              "      <td>None</td>\n",
              "      <td>Jayendra</td>\n",
              "      <td>Umarji Anuradha, Jayendra, Aarthi Sriram, &amp; Suba</td>\n",
              "      <td>Siddarth</td>\n",
              "      <td>Nithya Menon</td>\n",
              "      <td>Priya Anand</td>\n",
              "    </tr>\n",
              "    <tr>\n",
              "      <th>3</th>\n",
              "      <td>3</td>\n",
              "      <td>180</td>\n",
              "      <td>2011</td>\n",
              "      <td>200 block Market Street</td>\n",
              "      <td>None</td>\n",
              "      <td>SPI Cinemas</td>\n",
              "      <td>None</td>\n",
              "      <td>Jayendra</td>\n",
              "      <td>Umarji Anuradha, Jayendra, Aarthi Sriram, &amp; Suba</td>\n",
              "      <td>Siddarth</td>\n",
              "      <td>Nithya Menon</td>\n",
              "      <td>Priya Anand</td>\n",
              "    </tr>\n",
              "    <tr>\n",
              "      <th>4</th>\n",
              "      <td>4</td>\n",
              "      <td>180</td>\n",
              "      <td>2011</td>\n",
              "      <td>City Hall</td>\n",
              "      <td>None</td>\n",
              "      <td>SPI Cinemas</td>\n",
              "      <td>None</td>\n",
              "      <td>Jayendra</td>\n",
              "      <td>Umarji Anuradha, Jayendra, Aarthi Sriram, &amp; Suba</td>\n",
              "      <td>Siddarth</td>\n",
              "      <td>Nithya Menon</td>\n",
              "      <td>Priya Anand</td>\n",
              "    </tr>\n",
              "    <tr>\n",
              "      <th>...</th>\n",
              "      <td>...</td>\n",
              "      <td>...</td>\n",
              "      <td>...</td>\n",
              "      <td>...</td>\n",
              "      <td>...</td>\n",
              "      <td>...</td>\n",
              "      <td>...</td>\n",
              "      <td>...</td>\n",
              "      <td>...</td>\n",
              "      <td>...</td>\n",
              "      <td>...</td>\n",
              "      <td>...</td>\n",
              "    </tr>\n",
              "    <tr>\n",
              "      <th>3409</th>\n",
              "      <td>3409</td>\n",
              "      <td>Quicksilver</td>\n",
              "      <td>1986</td>\n",
              "      <td>Pacific Stock Exchange</td>\n",
              "      <td>None</td>\n",
              "      <td>Columbia Pictures Corporation</td>\n",
              "      <td>Columbia Pictures</td>\n",
              "      <td>Thomas Michael Donnelly</td>\n",
              "      <td>Thomas Michael Donnelly</td>\n",
              "      <td>Kevin Bacon</td>\n",
              "      <td>Jami Gertz</td>\n",
              "      <td>Paul Rodriguez</td>\n",
              "    </tr>\n",
              "    <tr>\n",
              "      <th>3410</th>\n",
              "      <td>3410</td>\n",
              "      <td>Murder in the First, Season 1</td>\n",
              "      <td>2014</td>\n",
              "      <td>50 California Street</td>\n",
              "      <td>None</td>\n",
              "      <td>Turner North Center Productions</td>\n",
              "      <td>Turner Network Television (TNT)</td>\n",
              "      <td>Steven Bochcho</td>\n",
              "      <td>Eric Lodal</td>\n",
              "      <td>Taye Diggs</td>\n",
              "      <td>Kathleen Robertson</td>\n",
              "      <td>Ian Anthony Dale</td>\n",
              "    </tr>\n",
              "    <tr>\n",
              "      <th>3411</th>\n",
              "      <td>3411</td>\n",
              "      <td>Murder in the First, Season 3</td>\n",
              "      <td>2016</td>\n",
              "      <td>Linden Alley between Octavia and Gough Streets</td>\n",
              "      <td>None</td>\n",
              "      <td>Turner North Center Productions</td>\n",
              "      <td>Turner Network Television (TNT)</td>\n",
              "      <td>Steven Bochcho</td>\n",
              "      <td>Eric Lodal</td>\n",
              "      <td>Taye Diggs</td>\n",
              "      <td>Kathleen Robertson</td>\n",
              "      <td>Ian Anthony Dale</td>\n",
              "    </tr>\n",
              "    <tr>\n",
              "      <th>3412</th>\n",
              "      <td>3412</td>\n",
              "      <td>George of the Jungle</td>\n",
              "      <td>1997</td>\n",
              "      <td>755 Vallejo Street</td>\n",
              "      <td>None</td>\n",
              "      <td>Walt Disney Pictures</td>\n",
              "      <td>Buena Vista Pictures</td>\n",
              "      <td>Sam Weisman</td>\n",
              "      <td>Jay Ward</td>\n",
              "      <td>Brendan Fraser</td>\n",
              "      <td>Leslie Mann</td>\n",
              "      <td>None</td>\n",
              "    </tr>\n",
              "    <tr>\n",
              "      <th>3413</th>\n",
              "      <td>3413</td>\n",
              "      <td>Alcatraz</td>\n",
              "      <td>2012</td>\n",
              "      <td>Chestnut St. from Larkin to Columbus</td>\n",
              "      <td>None</td>\n",
              "      <td>Bonanza Productions Inc.</td>\n",
              "      <td>Warner Bros. Television</td>\n",
              "      <td>J.J. Abrams</td>\n",
              "      <td>Steven Lilien</td>\n",
              "      <td>Sarah Jones</td>\n",
              "      <td>Jorge Garcia</td>\n",
              "      <td>None</td>\n",
              "    </tr>\n",
              "  </tbody>\n",
              "</table>\n",
              "<p>3414 rows × 12 columns</p>\n",
              "</div>"
            ],
            "text/plain": [
              "      index  ...            Actor3\n",
              "0         0  ...       Priya Anand\n",
              "1         1  ...       Priya Anand\n",
              "2         2  ...       Priya Anand\n",
              "3         3  ...       Priya Anand\n",
              "4         4  ...       Priya Anand\n",
              "...     ...  ...               ...\n",
              "3409   3409  ...    Paul Rodriguez\n",
              "3410   3410  ...  Ian Anthony Dale\n",
              "3411   3411  ...  Ian Anthony Dale\n",
              "3412   3412  ...              None\n",
              "3413   3413  ...              None\n",
              "\n",
              "[3414 rows x 12 columns]"
            ]
          },
          "metadata": {
            "tags": []
          },
          "execution_count": 32
        }
      ]
    },
    {
      "cell_type": "markdown",
      "metadata": {
        "id": "h4KyE6_z7pPc"
      },
      "source": [
        "# Task A: Exploring the Database"
      ]
    },
    {
      "cell_type": "markdown",
      "metadata": {
        "id": "xwmVAsCW-OnP"
      },
      "source": [
        "### **selective details of all the film records.**"
      ]
    },
    {
      "cell_type": "code",
      "metadata": {
        "colab": {
          "base_uri": "https://localhost:8080/",
          "height": 419
        },
        "id": "P9vl2-ne-Z8D",
        "outputId": "f5693e2e-ee8b-4ad7-d7be-2998b27bbdd5"
      },
      "source": [
        "pd.read_sql_query(sql=\"SELECT Title, Director, Writer FROM FilmLocations\",con=temp_db)"
      ],
      "execution_count": 33,
      "outputs": [
        {
          "output_type": "execute_result",
          "data": {
            "text/html": [
              "<div>\n",
              "<style scoped>\n",
              "    .dataframe tbody tr th:only-of-type {\n",
              "        vertical-align: middle;\n",
              "    }\n",
              "\n",
              "    .dataframe tbody tr th {\n",
              "        vertical-align: top;\n",
              "    }\n",
              "\n",
              "    .dataframe thead th {\n",
              "        text-align: right;\n",
              "    }\n",
              "</style>\n",
              "<table border=\"1\" class=\"dataframe\">\n",
              "  <thead>\n",
              "    <tr style=\"text-align: right;\">\n",
              "      <th></th>\n",
              "      <th>Title</th>\n",
              "      <th>Director</th>\n",
              "      <th>Writer</th>\n",
              "    </tr>\n",
              "  </thead>\n",
              "  <tbody>\n",
              "    <tr>\n",
              "      <th>0</th>\n",
              "      <td>180</td>\n",
              "      <td>Jayendra</td>\n",
              "      <td>Umarji Anuradha, Jayendra, Aarthi Sriram, &amp; Suba</td>\n",
              "    </tr>\n",
              "    <tr>\n",
              "      <th>1</th>\n",
              "      <td>180</td>\n",
              "      <td>Jayendra</td>\n",
              "      <td>Umarji Anuradha, Jayendra, Aarthi Sriram, &amp; Suba</td>\n",
              "    </tr>\n",
              "    <tr>\n",
              "      <th>2</th>\n",
              "      <td>180</td>\n",
              "      <td>Jayendra</td>\n",
              "      <td>Umarji Anuradha, Jayendra, Aarthi Sriram, &amp; Suba</td>\n",
              "    </tr>\n",
              "    <tr>\n",
              "      <th>3</th>\n",
              "      <td>180</td>\n",
              "      <td>Jayendra</td>\n",
              "      <td>Umarji Anuradha, Jayendra, Aarthi Sriram, &amp; Suba</td>\n",
              "    </tr>\n",
              "    <tr>\n",
              "      <th>4</th>\n",
              "      <td>180</td>\n",
              "      <td>Jayendra</td>\n",
              "      <td>Umarji Anuradha, Jayendra, Aarthi Sriram, &amp; Suba</td>\n",
              "    </tr>\n",
              "    <tr>\n",
              "      <th>...</th>\n",
              "      <td>...</td>\n",
              "      <td>...</td>\n",
              "      <td>...</td>\n",
              "    </tr>\n",
              "    <tr>\n",
              "      <th>3409</th>\n",
              "      <td>Quicksilver</td>\n",
              "      <td>Thomas Michael Donnelly</td>\n",
              "      <td>Thomas Michael Donnelly</td>\n",
              "    </tr>\n",
              "    <tr>\n",
              "      <th>3410</th>\n",
              "      <td>Murder in the First, Season 1</td>\n",
              "      <td>Steven Bochcho</td>\n",
              "      <td>Eric Lodal</td>\n",
              "    </tr>\n",
              "    <tr>\n",
              "      <th>3411</th>\n",
              "      <td>Murder in the First, Season 3</td>\n",
              "      <td>Steven Bochcho</td>\n",
              "      <td>Eric Lodal</td>\n",
              "    </tr>\n",
              "    <tr>\n",
              "      <th>3412</th>\n",
              "      <td>George of the Jungle</td>\n",
              "      <td>Sam Weisman</td>\n",
              "      <td>Jay Ward</td>\n",
              "    </tr>\n",
              "    <tr>\n",
              "      <th>3413</th>\n",
              "      <td>Alcatraz</td>\n",
              "      <td>J.J. Abrams</td>\n",
              "      <td>Steven Lilien</td>\n",
              "    </tr>\n",
              "  </tbody>\n",
              "</table>\n",
              "<p>3414 rows × 3 columns</p>\n",
              "</div>"
            ],
            "text/plain": [
              "                              Title  ...                                             Writer\n",
              "0                               180  ...  Umarji Anuradha, Jayendra, Aarthi Sriram, & Suba \n",
              "1                               180  ...  Umarji Anuradha, Jayendra, Aarthi Sriram, & Suba \n",
              "2                               180  ...  Umarji Anuradha, Jayendra, Aarthi Sriram, & Suba \n",
              "3                               180  ...  Umarji Anuradha, Jayendra, Aarthi Sriram, & Suba \n",
              "4                               180  ...  Umarji Anuradha, Jayendra, Aarthi Sriram, & Suba \n",
              "...                             ...  ...                                                ...\n",
              "3409                    Quicksilver  ...                            Thomas Michael Donnelly\n",
              "3410  Murder in the First, Season 1  ...                                         Eric Lodal\n",
              "3411  Murder in the First, Season 3  ...                                         Eric Lodal\n",
              "3412           George of the Jungle  ...                                           Jay Ward\n",
              "3413                       Alcatraz  ...                                      Steven Lilien\n",
              "\n",
              "[3414 rows x 3 columns]"
            ]
          },
          "metadata": {
            "tags": []
          },
          "execution_count": 33
        }
      ]
    },
    {
      "cell_type": "markdown",
      "metadata": {
        "id": "I3PbNcL1-se2"
      },
      "source": [
        "### WHERE\n",
        "**Retrieve the names of all films released in the 21st century and onwards (release years after 2001 including 2001), along with filming locations and release years.**"
      ]
    },
    {
      "cell_type": "code",
      "metadata": {
        "colab": {
          "base_uri": "https://localhost:8080/",
          "height": 419
        },
        "id": "JAKxhjYO-vbl",
        "outputId": "af528b3e-bd11-47c2-8dba-33eca0fa52d1"
      },
      "source": [
        "pd.read_sql_query(sql=\"SELECT Title, ReleaseYear, Locations FROM FilmLocations WHERE ReleaseYear>=2001;\",con=temp_db)"
      ],
      "execution_count": 35,
      "outputs": [
        {
          "output_type": "execute_result",
          "data": {
            "text/html": [
              "<div>\n",
              "<style scoped>\n",
              "    .dataframe tbody tr th:only-of-type {\n",
              "        vertical-align: middle;\n",
              "    }\n",
              "\n",
              "    .dataframe tbody tr th {\n",
              "        vertical-align: top;\n",
              "    }\n",
              "\n",
              "    .dataframe thead th {\n",
              "        text-align: right;\n",
              "    }\n",
              "</style>\n",
              "<table border=\"1\" class=\"dataframe\">\n",
              "  <thead>\n",
              "    <tr style=\"text-align: right;\">\n",
              "      <th></th>\n",
              "      <th>Title</th>\n",
              "      <th>ReleaseYear</th>\n",
              "      <th>Locations</th>\n",
              "    </tr>\n",
              "  </thead>\n",
              "  <tbody>\n",
              "    <tr>\n",
              "      <th>0</th>\n",
              "      <td>180</td>\n",
              "      <td>2011</td>\n",
              "      <td>Epic Roasthouse (399 Embarcadero)</td>\n",
              "    </tr>\n",
              "    <tr>\n",
              "      <th>1</th>\n",
              "      <td>180</td>\n",
              "      <td>2011</td>\n",
              "      <td>Mason &amp; California Streets (Nob Hill)</td>\n",
              "    </tr>\n",
              "    <tr>\n",
              "      <th>2</th>\n",
              "      <td>180</td>\n",
              "      <td>2011</td>\n",
              "      <td>Justin Herman Plaza</td>\n",
              "    </tr>\n",
              "    <tr>\n",
              "      <th>3</th>\n",
              "      <td>180</td>\n",
              "      <td>2011</td>\n",
              "      <td>200 block Market Street</td>\n",
              "    </tr>\n",
              "    <tr>\n",
              "      <th>4</th>\n",
              "      <td>180</td>\n",
              "      <td>2011</td>\n",
              "      <td>City Hall</td>\n",
              "    </tr>\n",
              "    <tr>\n",
              "      <th>...</th>\n",
              "      <td>...</td>\n",
              "      <td>...</td>\n",
              "      <td>...</td>\n",
              "    </tr>\n",
              "    <tr>\n",
              "      <th>1921</th>\n",
              "      <td>GirlBoss</td>\n",
              "      <td>2017</td>\n",
              "      <td>Fillmore between Haight and Waller</td>\n",
              "    </tr>\n",
              "    <tr>\n",
              "      <th>1922</th>\n",
              "      <td>Tales of the City</td>\n",
              "      <td>2019</td>\n",
              "      <td>Mission District</td>\n",
              "    </tr>\n",
              "    <tr>\n",
              "      <th>1923</th>\n",
              "      <td>Murder in the First, Season 1</td>\n",
              "      <td>2014</td>\n",
              "      <td>50 California Street</td>\n",
              "    </tr>\n",
              "    <tr>\n",
              "      <th>1924</th>\n",
              "      <td>Murder in the First, Season 3</td>\n",
              "      <td>2016</td>\n",
              "      <td>Linden Alley between Octavia and Gough Streets</td>\n",
              "    </tr>\n",
              "    <tr>\n",
              "      <th>1925</th>\n",
              "      <td>Alcatraz</td>\n",
              "      <td>2012</td>\n",
              "      <td>Chestnut St. from Larkin to Columbus</td>\n",
              "    </tr>\n",
              "  </tbody>\n",
              "</table>\n",
              "<p>1926 rows × 3 columns</p>\n",
              "</div>"
            ],
            "text/plain": [
              "                              Title  ...                                       Locations\n",
              "0                               180  ...               Epic Roasthouse (399 Embarcadero)\n",
              "1                               180  ...           Mason & California Streets (Nob Hill)\n",
              "2                               180  ...                             Justin Herman Plaza\n",
              "3                               180  ...                         200 block Market Street\n",
              "4                               180  ...                                       City Hall\n",
              "...                             ...  ...                                             ...\n",
              "1921                       GirlBoss  ...              Fillmore between Haight and Waller\n",
              "1922              Tales of the City  ...                                Mission District\n",
              "1923  Murder in the First, Season 1  ...                            50 California Street\n",
              "1924  Murder in the First, Season 3  ...  Linden Alley between Octavia and Gough Streets\n",
              "1925                       Alcatraz  ...            Chestnut St. from Larkin to Columbus\n",
              "\n",
              "[1926 rows x 3 columns]"
            ]
          },
          "metadata": {
            "tags": []
          },
          "execution_count": 35
        }
      ]
    },
    {
      "cell_type": "markdown",
      "metadata": {
        "id": "O7UYKMjQ7t83"
      },
      "source": [
        "# Task C: Practice exercises on SELECT statement"
      ]
    },
    {
      "cell_type": "markdown",
      "metadata": {
        "id": "_qT70Ez9GgpB"
      },
      "source": [
        "### Retrieve the fun facts and filming locations of all films."
      ]
    },
    {
      "cell_type": "code",
      "metadata": {
        "colab": {
          "base_uri": "https://localhost:8080/",
          "height": 419
        },
        "id": "AD14Ytd87O8J",
        "outputId": "bdc9b2a3-d958-42d6-ebed-f9f57283c393"
      },
      "source": [
        "pd.read_sql_query(sql=\"SELECT FunFacts, Locations FROM FilmLocations\",con=temp_db)"
      ],
      "execution_count": 39,
      "outputs": [
        {
          "output_type": "execute_result",
          "data": {
            "text/html": [
              "<div>\n",
              "<style scoped>\n",
              "    .dataframe tbody tr th:only-of-type {\n",
              "        vertical-align: middle;\n",
              "    }\n",
              "\n",
              "    .dataframe tbody tr th {\n",
              "        vertical-align: top;\n",
              "    }\n",
              "\n",
              "    .dataframe thead th {\n",
              "        text-align: right;\n",
              "    }\n",
              "</style>\n",
              "<table border=\"1\" class=\"dataframe\">\n",
              "  <thead>\n",
              "    <tr style=\"text-align: right;\">\n",
              "      <th></th>\n",
              "      <th>FunFacts</th>\n",
              "      <th>Locations</th>\n",
              "    </tr>\n",
              "  </thead>\n",
              "  <tbody>\n",
              "    <tr>\n",
              "      <th>0</th>\n",
              "      <td>None</td>\n",
              "      <td>Epic Roasthouse (399 Embarcadero)</td>\n",
              "    </tr>\n",
              "    <tr>\n",
              "      <th>1</th>\n",
              "      <td>None</td>\n",
              "      <td>Mason &amp; California Streets (Nob Hill)</td>\n",
              "    </tr>\n",
              "    <tr>\n",
              "      <th>2</th>\n",
              "      <td>None</td>\n",
              "      <td>Justin Herman Plaza</td>\n",
              "    </tr>\n",
              "    <tr>\n",
              "      <th>3</th>\n",
              "      <td>None</td>\n",
              "      <td>200 block Market Street</td>\n",
              "    </tr>\n",
              "    <tr>\n",
              "      <th>4</th>\n",
              "      <td>None</td>\n",
              "      <td>City Hall</td>\n",
              "    </tr>\n",
              "    <tr>\n",
              "      <th>...</th>\n",
              "      <td>...</td>\n",
              "      <td>...</td>\n",
              "    </tr>\n",
              "    <tr>\n",
              "      <th>3409</th>\n",
              "      <td>None</td>\n",
              "      <td>Pacific Stock Exchange</td>\n",
              "    </tr>\n",
              "    <tr>\n",
              "      <th>3410</th>\n",
              "      <td>None</td>\n",
              "      <td>50 California Street</td>\n",
              "    </tr>\n",
              "    <tr>\n",
              "      <th>3411</th>\n",
              "      <td>None</td>\n",
              "      <td>Linden Alley between Octavia and Gough Streets</td>\n",
              "    </tr>\n",
              "    <tr>\n",
              "      <th>3412</th>\n",
              "      <td>None</td>\n",
              "      <td>755 Vallejo Street</td>\n",
              "    </tr>\n",
              "    <tr>\n",
              "      <th>3413</th>\n",
              "      <td>None</td>\n",
              "      <td>Chestnut St. from Larkin to Columbus</td>\n",
              "    </tr>\n",
              "  </tbody>\n",
              "</table>\n",
              "<p>3414 rows × 2 columns</p>\n",
              "</div>"
            ],
            "text/plain": [
              "     FunFacts                                       Locations\n",
              "0        None               Epic Roasthouse (399 Embarcadero)\n",
              "1        None           Mason & California Streets (Nob Hill)\n",
              "2        None                             Justin Herman Plaza\n",
              "3        None                         200 block Market Street\n",
              "4        None                                       City Hall\n",
              "...       ...                                             ...\n",
              "3409     None                          Pacific Stock Exchange\n",
              "3410     None                            50 California Street\n",
              "3411     None  Linden Alley between Octavia and Gough Streets\n",
              "3412     None                              755 Vallejo Street\n",
              "3413     None            Chestnut St. from Larkin to Columbus\n",
              "\n",
              "[3414 rows x 2 columns]"
            ]
          },
          "metadata": {
            "tags": []
          },
          "execution_count": 39
        }
      ]
    },
    {
      "cell_type": "markdown",
      "metadata": {
        "id": "Dp9rMtYkGhIb"
      },
      "source": [
        "### Retrieve the names of all films released in the 20th century and before (release years before 2000 including 2000) that, along with filming locations and release years."
      ]
    },
    {
      "cell_type": "code",
      "metadata": {
        "colab": {
          "base_uri": "https://localhost:8080/",
          "height": 419
        },
        "id": "9dMFQU4FGhlC",
        "outputId": "c896edc4-9e65-4665-a92a-4b636fd517ee"
      },
      "source": [
        "pd.read_sql_query(sql=\"SELECT Title, Locations,ReleaseYear FROM FilmLocations WHERE ReleaseYear<=2000\",con=temp_db)"
      ],
      "execution_count": 40,
      "outputs": [
        {
          "output_type": "execute_result",
          "data": {
            "text/html": [
              "<div>\n",
              "<style scoped>\n",
              "    .dataframe tbody tr th:only-of-type {\n",
              "        vertical-align: middle;\n",
              "    }\n",
              "\n",
              "    .dataframe tbody tr th {\n",
              "        vertical-align: top;\n",
              "    }\n",
              "\n",
              "    .dataframe thead th {\n",
              "        text-align: right;\n",
              "    }\n",
              "</style>\n",
              "<table border=\"1\" class=\"dataframe\">\n",
              "  <thead>\n",
              "    <tr style=\"text-align: right;\">\n",
              "      <th></th>\n",
              "      <th>Title</th>\n",
              "      <th>Locations</th>\n",
              "      <th>ReleaseYear</th>\n",
              "    </tr>\n",
              "  </thead>\n",
              "  <tbody>\n",
              "    <tr>\n",
              "      <th>0</th>\n",
              "      <td>A Night Full of Rain</td>\n",
              "      <td>Embarcadero Freeway</td>\n",
              "      <td>1978</td>\n",
              "    </tr>\n",
              "    <tr>\n",
              "      <th>1</th>\n",
              "      <td>A Night Full of Rain</td>\n",
              "      <td>Fairmont Hotel (950 Mason Street, Nob Hill)</td>\n",
              "      <td>1978</td>\n",
              "    </tr>\n",
              "    <tr>\n",
              "      <th>2</th>\n",
              "      <td>A Night Full of Rain</td>\n",
              "      <td>San Francisco Chronicle (901 Mission Street at...</td>\n",
              "      <td>1978</td>\n",
              "    </tr>\n",
              "    <tr>\n",
              "      <th>3</th>\n",
              "      <td>A Night Full of Rain</td>\n",
              "      <td>Broadway (North Beach)</td>\n",
              "      <td>1978</td>\n",
              "    </tr>\n",
              "    <tr>\n",
              "      <th>4</th>\n",
              "      <td>Vegas in Space</td>\n",
              "      <td>Under Highway 101 (near Potrero and Cesar Chav...</td>\n",
              "      <td>1992</td>\n",
              "    </tr>\n",
              "    <tr>\n",
              "      <th>...</th>\n",
              "      <td>...</td>\n",
              "      <td>...</td>\n",
              "      <td>...</td>\n",
              "    </tr>\n",
              "    <tr>\n",
              "      <th>1483</th>\n",
              "      <td>Basic Instinct</td>\n",
              "      <td>Gibb Street (Chinatown)</td>\n",
              "      <td>1992</td>\n",
              "    </tr>\n",
              "    <tr>\n",
              "      <th>1484</th>\n",
              "      <td>Burglar</td>\n",
              "      <td>1400 18th Street</td>\n",
              "      <td>1987</td>\n",
              "    </tr>\n",
              "    <tr>\n",
              "      <th>1485</th>\n",
              "      <td>The Game</td>\n",
              "      <td>Merchant Exchange Building</td>\n",
              "      <td>1997</td>\n",
              "    </tr>\n",
              "    <tr>\n",
              "      <th>1486</th>\n",
              "      <td>Quicksilver</td>\n",
              "      <td>Pacific Stock Exchange</td>\n",
              "      <td>1986</td>\n",
              "    </tr>\n",
              "    <tr>\n",
              "      <th>1487</th>\n",
              "      <td>George of the Jungle</td>\n",
              "      <td>755 Vallejo Street</td>\n",
              "      <td>1997</td>\n",
              "    </tr>\n",
              "  </tbody>\n",
              "</table>\n",
              "<p>1488 rows × 3 columns</p>\n",
              "</div>"
            ],
            "text/plain": [
              "                     Title  ... ReleaseYear\n",
              "0     A Night Full of Rain  ...        1978\n",
              "1     A Night Full of Rain  ...        1978\n",
              "2     A Night Full of Rain  ...        1978\n",
              "3     A Night Full of Rain  ...        1978\n",
              "4           Vegas in Space  ...        1992\n",
              "...                    ...  ...         ...\n",
              "1483        Basic Instinct  ...        1992\n",
              "1484               Burglar  ...        1987\n",
              "1485              The Game  ...        1997\n",
              "1486           Quicksilver  ...        1986\n",
              "1487  George of the Jungle  ...        1997\n",
              "\n",
              "[1488 rows x 3 columns]"
            ]
          },
          "metadata": {
            "tags": []
          },
          "execution_count": 40
        }
      ]
    },
    {
      "cell_type": "markdown",
      "metadata": {
        "id": "YGE6VoClGh6r"
      },
      "source": [
        "### Retrieve the names, production company names, filming locations, and release years of the films which are not written by James Cameron."
      ]
    },
    {
      "cell_type": "markdown",
      "metadata": {
        "id": "qWDa7pJ5KdQS"
      },
      "source": [
        "**Writing query in multiple line**"
      ]
    },
    {
      "cell_type": "code",
      "metadata": {
        "colab": {
          "base_uri": "https://localhost:8080/",
          "height": 419
        },
        "id": "aYC9KK1BGykv",
        "outputId": "6d8d1aee-776a-48b1-ff83-83f675aba867"
      },
      "source": [
        "pd.read_sql_query(sql=\"\"\"SELECT Title, ProductionCompany, Locations, ReleaseYear \n",
        "                          FROM FilmLocations \n",
        "                          WHERE Writer<>'James Cameron'\"\"\",con=temp_db)"
      ],
      "execution_count": 48,
      "outputs": [
        {
          "output_type": "execute_result",
          "data": {
            "text/html": [
              "<div>\n",
              "<style scoped>\n",
              "    .dataframe tbody tr th:only-of-type {\n",
              "        vertical-align: middle;\n",
              "    }\n",
              "\n",
              "    .dataframe tbody tr th {\n",
              "        vertical-align: top;\n",
              "    }\n",
              "\n",
              "    .dataframe thead th {\n",
              "        text-align: right;\n",
              "    }\n",
              "</style>\n",
              "<table border=\"1\" class=\"dataframe\">\n",
              "  <thead>\n",
              "    <tr style=\"text-align: right;\">\n",
              "      <th></th>\n",
              "      <th>Title</th>\n",
              "      <th>ProductionCompany</th>\n",
              "      <th>Locations</th>\n",
              "      <th>ReleaseYear</th>\n",
              "    </tr>\n",
              "  </thead>\n",
              "  <tbody>\n",
              "    <tr>\n",
              "      <th>0</th>\n",
              "      <td>180</td>\n",
              "      <td>SPI Cinemas</td>\n",
              "      <td>Epic Roasthouse (399 Embarcadero)</td>\n",
              "      <td>2011</td>\n",
              "    </tr>\n",
              "    <tr>\n",
              "      <th>1</th>\n",
              "      <td>180</td>\n",
              "      <td>SPI Cinemas</td>\n",
              "      <td>Mason &amp; California Streets (Nob Hill)</td>\n",
              "      <td>2011</td>\n",
              "    </tr>\n",
              "    <tr>\n",
              "      <th>2</th>\n",
              "      <td>180</td>\n",
              "      <td>SPI Cinemas</td>\n",
              "      <td>Justin Herman Plaza</td>\n",
              "      <td>2011</td>\n",
              "    </tr>\n",
              "    <tr>\n",
              "      <th>3</th>\n",
              "      <td>180</td>\n",
              "      <td>SPI Cinemas</td>\n",
              "      <td>200 block Market Street</td>\n",
              "      <td>2011</td>\n",
              "    </tr>\n",
              "    <tr>\n",
              "      <th>4</th>\n",
              "      <td>180</td>\n",
              "      <td>SPI Cinemas</td>\n",
              "      <td>City Hall</td>\n",
              "      <td>2011</td>\n",
              "    </tr>\n",
              "    <tr>\n",
              "      <th>...</th>\n",
              "      <td>...</td>\n",
              "      <td>...</td>\n",
              "      <td>...</td>\n",
              "      <td>...</td>\n",
              "    </tr>\n",
              "    <tr>\n",
              "      <th>3351</th>\n",
              "      <td>Quicksilver</td>\n",
              "      <td>Columbia Pictures Corporation</td>\n",
              "      <td>Pacific Stock Exchange</td>\n",
              "      <td>1986</td>\n",
              "    </tr>\n",
              "    <tr>\n",
              "      <th>3352</th>\n",
              "      <td>Murder in the First, Season 1</td>\n",
              "      <td>Turner North Center Productions</td>\n",
              "      <td>50 California Street</td>\n",
              "      <td>2014</td>\n",
              "    </tr>\n",
              "    <tr>\n",
              "      <th>3353</th>\n",
              "      <td>Murder in the First, Season 3</td>\n",
              "      <td>Turner North Center Productions</td>\n",
              "      <td>Linden Alley between Octavia and Gough Streets</td>\n",
              "      <td>2016</td>\n",
              "    </tr>\n",
              "    <tr>\n",
              "      <th>3354</th>\n",
              "      <td>George of the Jungle</td>\n",
              "      <td>Walt Disney Pictures</td>\n",
              "      <td>755 Vallejo Street</td>\n",
              "      <td>1997</td>\n",
              "    </tr>\n",
              "    <tr>\n",
              "      <th>3355</th>\n",
              "      <td>Alcatraz</td>\n",
              "      <td>Bonanza Productions Inc.</td>\n",
              "      <td>Chestnut St. from Larkin to Columbus</td>\n",
              "      <td>2012</td>\n",
              "    </tr>\n",
              "  </tbody>\n",
              "</table>\n",
              "<p>3356 rows × 4 columns</p>\n",
              "</div>"
            ],
            "text/plain": [
              "                              Title  ... ReleaseYear\n",
              "0                               180  ...        2011\n",
              "1                               180  ...        2011\n",
              "2                               180  ...        2011\n",
              "3                               180  ...        2011\n",
              "4                               180  ...        2011\n",
              "...                             ...  ...         ...\n",
              "3351                    Quicksilver  ...        1986\n",
              "3352  Murder in the First, Season 1  ...        2014\n",
              "3353  Murder in the First, Season 3  ...        2016\n",
              "3354           George of the Jungle  ...        1997\n",
              "3355                       Alcatraz  ...        2012\n",
              "\n",
              "[3356 rows x 4 columns]"
            ]
          },
          "metadata": {
            "tags": []
          },
          "execution_count": 48
        }
      ]
    },
    {
      "cell_type": "code",
      "metadata": {
        "colab": {
          "base_uri": "https://localhost:8080/",
          "height": 419
        },
        "id": "7qqn9-SWKQTp",
        "outputId": "a6c8b897-beb1-4a28-ce1b-b100d8a81918"
      },
      "source": [
        "pd.read_sql_query(sql=\"\"\"SELECT Title, ProductionCompany, Locations, ReleaseYear \n",
        "                          FROM FilmLocations \n",
        "                          WHERE Writer!='James Cameron'\n",
        "                        \"\"\",con=temp_db)"
      ],
      "execution_count": 50,
      "outputs": [
        {
          "output_type": "execute_result",
          "data": {
            "text/html": [
              "<div>\n",
              "<style scoped>\n",
              "    .dataframe tbody tr th:only-of-type {\n",
              "        vertical-align: middle;\n",
              "    }\n",
              "\n",
              "    .dataframe tbody tr th {\n",
              "        vertical-align: top;\n",
              "    }\n",
              "\n",
              "    .dataframe thead th {\n",
              "        text-align: right;\n",
              "    }\n",
              "</style>\n",
              "<table border=\"1\" class=\"dataframe\">\n",
              "  <thead>\n",
              "    <tr style=\"text-align: right;\">\n",
              "      <th></th>\n",
              "      <th>Title</th>\n",
              "      <th>ProductionCompany</th>\n",
              "      <th>Locations</th>\n",
              "      <th>ReleaseYear</th>\n",
              "    </tr>\n",
              "  </thead>\n",
              "  <tbody>\n",
              "    <tr>\n",
              "      <th>0</th>\n",
              "      <td>180</td>\n",
              "      <td>SPI Cinemas</td>\n",
              "      <td>Epic Roasthouse (399 Embarcadero)</td>\n",
              "      <td>2011</td>\n",
              "    </tr>\n",
              "    <tr>\n",
              "      <th>1</th>\n",
              "      <td>180</td>\n",
              "      <td>SPI Cinemas</td>\n",
              "      <td>Mason &amp; California Streets (Nob Hill)</td>\n",
              "      <td>2011</td>\n",
              "    </tr>\n",
              "    <tr>\n",
              "      <th>2</th>\n",
              "      <td>180</td>\n",
              "      <td>SPI Cinemas</td>\n",
              "      <td>Justin Herman Plaza</td>\n",
              "      <td>2011</td>\n",
              "    </tr>\n",
              "    <tr>\n",
              "      <th>3</th>\n",
              "      <td>180</td>\n",
              "      <td>SPI Cinemas</td>\n",
              "      <td>200 block Market Street</td>\n",
              "      <td>2011</td>\n",
              "    </tr>\n",
              "    <tr>\n",
              "      <th>4</th>\n",
              "      <td>180</td>\n",
              "      <td>SPI Cinemas</td>\n",
              "      <td>City Hall</td>\n",
              "      <td>2011</td>\n",
              "    </tr>\n",
              "    <tr>\n",
              "      <th>...</th>\n",
              "      <td>...</td>\n",
              "      <td>...</td>\n",
              "      <td>...</td>\n",
              "      <td>...</td>\n",
              "    </tr>\n",
              "    <tr>\n",
              "      <th>3351</th>\n",
              "      <td>Quicksilver</td>\n",
              "      <td>Columbia Pictures Corporation</td>\n",
              "      <td>Pacific Stock Exchange</td>\n",
              "      <td>1986</td>\n",
              "    </tr>\n",
              "    <tr>\n",
              "      <th>3352</th>\n",
              "      <td>Murder in the First, Season 1</td>\n",
              "      <td>Turner North Center Productions</td>\n",
              "      <td>50 California Street</td>\n",
              "      <td>2014</td>\n",
              "    </tr>\n",
              "    <tr>\n",
              "      <th>3353</th>\n",
              "      <td>Murder in the First, Season 3</td>\n",
              "      <td>Turner North Center Productions</td>\n",
              "      <td>Linden Alley between Octavia and Gough Streets</td>\n",
              "      <td>2016</td>\n",
              "    </tr>\n",
              "    <tr>\n",
              "      <th>3354</th>\n",
              "      <td>George of the Jungle</td>\n",
              "      <td>Walt Disney Pictures</td>\n",
              "      <td>755 Vallejo Street</td>\n",
              "      <td>1997</td>\n",
              "    </tr>\n",
              "    <tr>\n",
              "      <th>3355</th>\n",
              "      <td>Alcatraz</td>\n",
              "      <td>Bonanza Productions Inc.</td>\n",
              "      <td>Chestnut St. from Larkin to Columbus</td>\n",
              "      <td>2012</td>\n",
              "    </tr>\n",
              "  </tbody>\n",
              "</table>\n",
              "<p>3356 rows × 4 columns</p>\n",
              "</div>"
            ],
            "text/plain": [
              "                              Title  ... ReleaseYear\n",
              "0                               180  ...        2011\n",
              "1                               180  ...        2011\n",
              "2                               180  ...        2011\n",
              "3                               180  ...        2011\n",
              "4                               180  ...        2011\n",
              "...                             ...  ...         ...\n",
              "3351                    Quicksilver  ...        1986\n",
              "3352  Murder in the First, Season 1  ...        2014\n",
              "3353  Murder in the First, Season 3  ...        2016\n",
              "3354           George of the Jungle  ...        1997\n",
              "3355                       Alcatraz  ...        2012\n",
              "\n",
              "[3356 rows x 4 columns]"
            ]
          },
          "metadata": {
            "tags": []
          },
          "execution_count": 50
        }
      ]
    },
    {
      "cell_type": "markdown",
      "metadata": {
        "id": "V6VTNPV8Gy7b"
      },
      "source": [
        ""
      ]
    }
  ]
}